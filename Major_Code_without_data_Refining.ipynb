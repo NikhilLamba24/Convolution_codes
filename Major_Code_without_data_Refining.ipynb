{
  "nbformat": 4,
  "nbformat_minor": 0,
  "metadata": {
    "colab": {
      "name": "Major_Code_without_data_Refining.ipynb",
      "provenance": [],
      "collapsed_sections": []
    },
    "kernelspec": {
      "name": "python3",
      "display_name": "Python 3"
    },
    "language_info": {
      "name": "python"
    },
    "accelerator": "GPU"
  },
  "cells": [
    {
      "cell_type": "code",
      "metadata": {
        "id": "q6isbcTJSmC6"
      },
      "source": [
        "#!unzip \"/content/drive/MyDrive/Pneumonia_dataset/archive.zip\" -d \"/content/drive/MyDrive/Major_project_code/MajorCode/\""
      ],
      "execution_count": null,
      "outputs": []
    },
    {
      "cell_type": "code",
      "metadata": {
        "id": "Mzw3wdZlaLiJ"
      },
      "source": [
        "import numpy as np                     \n",
        "import matplotlib.pyplot as plt\n",
        "import os\n",
        "import cv2 as cv\n",
        "import random\n",
        "from tqdm import tqdm\n",
        "from keras.preprocessing import image"
      ],
      "execution_count": null,
      "outputs": []
    },
    {
      "cell_type": "code",
      "metadata": {
        "id": "oVy-EBcPaLkj"
      },
      "source": [
        "path1 = '/content/drive/MyDrive/Major_project_code/MajorCode/chest_xray/test/'\n",
        "train = os.listdir(path1)"
      ],
      "execution_count": null,
      "outputs": []
    },
    {
      "cell_type": "code",
      "metadata": {
        "colab": {
          "base_uri": "https://localhost:8080/"
        },
        "id": "vXFWcPyDaLm_",
        "outputId": "8ce4197e-6603-4142-836a-2b6bd31e10ed"
      },
      "source": [
        "folders=[]\n",
        "folders = [f for f in sorted(os.listdir(path1))]\n",
        "print(folders)"
      ],
      "execution_count": null,
      "outputs": [
        {
          "output_type": "stream",
          "text": [
            "['NORMAL', 'PNEUMONIA']\n"
          ],
          "name": "stdout"
        }
      ]
    },
    {
      "cell_type": "code",
      "metadata": {
        "colab": {
          "base_uri": "https://localhost:8080/"
        },
        "id": "p7k2MMXOaLoV",
        "outputId": "b0ea5dd5-f7cb-4bf9-af38-9f6f061cab79"
      },
      "source": [
        "labels = folders\n",
        "print (f'The labels are {labels}')\n",
        " \n",
        "# setting the size of images that we want\n",
        " \n",
        "image_size = 224\n",
        "print(f'All images to be resized into {image_size}*{image_size} pixels')"
      ],
      "execution_count": null,
      "outputs": [
        {
          "output_type": "stream",
          "text": [
            "The labels are ['NORMAL', 'PNEUMONIA']\n",
            "All images to be resized into 224*224 pixels\n"
          ],
          "name": "stdout"
        }
      ]
    },
    {
      "cell_type": "code",
      "metadata": {
        "id": "mhWZO_NNaLqo"
      },
      "source": [
        "i = []\n",
        "\n",
        "while(True):\n",
        "\n",
        "    i.append('a')"
      ],
      "execution_count": null,
      "outputs": []
    },
    {
      "cell_type": "code",
      "metadata": {
        "id": "jrVYg0fjaLsr"
      },
      "source": [
        "# defining a function to load images and labels together\n",
        "# this function will also resize the images\n",
        " \n",
        "def load_train5(path1):\n",
        "    \n",
        "    images = []\n",
        "    \n",
        "    for label in labels:\n",
        "        direc = os.path.join(path1, label)\n",
        "        class_num = labels.index(label)\n",
        "        \n",
        "        for image in os.listdir(direc):\n",
        "            image_read = cv.imread(os.path.join(direc,image))\n",
        "            image_resized = cv.resize(image_read,(image_size,image_size),3)#modified here for getting output as (1,224,224,3) not as (224,224)\n",
        "            images.append([image_resized,class_num])\n",
        "            \n",
        "    return np.array(images)"
      ],
      "execution_count": null,
      "outputs": []
    },
    {
      "cell_type": "code",
      "metadata": {
        "colab": {
          "base_uri": "https://localhost:8080/"
        },
        "id": "hZBWB-LEaLu4",
        "outputId": "aef3aaf4-b875-4c8a-a10f-95c1a0473529"
      },
      "source": [
        "#loading without Grayscale \n",
        "train_images5 = load_train5(path1)\n",
        " \n",
        "print(f'Shape of the training images = {train_images5.shape}')"
      ],
      "execution_count": null,
      "outputs": [
        {
          "output_type": "stream",
          "text": [
            "Shape of the training images = (624, 2)\n"
          ],
          "name": "stdout"
        },
        {
          "output_type": "stream",
          "text": [
            "/usr/local/lib/python3.7/dist-packages/ipykernel_launcher.py:17: VisibleDeprecationWarning: Creating an ndarray from ragged nested sequences (which is a list-or-tuple of lists-or-tuples-or ndarrays with different lengths or shapes) is deprecated. If you meant to do this, you must specify 'dtype=object' when creating the ndarray\n"
          ],
          "name": "stderr"
        }
      ]
    },
    {
      "cell_type": "code",
      "metadata": {
        "colab": {
          "base_uri": "https://localhost:8080/"
        },
        "id": "U6nqmpp2aLxM",
        "outputId": "c1a6042a-8108-4a15-a230-0e5452435867"
      },
      "source": [
        "train_images5.shape"
      ],
      "execution_count": null,
      "outputs": [
        {
          "output_type": "execute_result",
          "data": {
            "text/plain": [
              "(624, 2)"
            ]
          },
          "metadata": {
            "tags": []
          },
          "execution_count": 10
        }
      ]
    },
    {
      "cell_type": "code",
      "metadata": {
        "colab": {
          "base_uri": "https://localhost:8080/"
        },
        "id": "VVbdVDoTaLzT",
        "outputId": "7647e8db-5f93-482f-dc4c-2592bf24d5cb"
      },
      "source": [
        "#loading the images and labels seperately in X and y, to be used later for training\n",
        "X5 = []\n",
        "y5 = []\n",
        "\n",
        "for feature, label in train_images5:\n",
        "    X5.append(feature)\n",
        "    y5.append(label)\n",
        "    \n",
        "print (f'Length of X = {len(X5)}')\n",
        "print (f'Length of y = {len(y5)}')"
      ],
      "execution_count": null,
      "outputs": [
        {
          "output_type": "stream",
          "text": [
            "Length of X = 624\n",
            "Length of y = 624\n"
          ],
          "name": "stdout"
        }
      ]
    },
    {
      "cell_type": "code",
      "metadata": {
        "id": "NWbeN5bOaL1c"
      },
      "source": [
        "X51=np.array(X5)\n",
        "y51= np.array(y5)"
      ],
      "execution_count": null,
      "outputs": []
    },
    {
      "cell_type": "code",
      "metadata": {
        "id": "fUCrHa0qaL3T"
      },
      "source": [
        "with open('testpneumoniaandlabels.npy', 'wb') as f:\n",
        "    np.save(f, X51)\n",
        "    np.save(f, y51)"
      ],
      "execution_count": null,
      "outputs": []
    },
    {
      "cell_type": "code",
      "metadata": {
        "id": "uAD-ud0haL5T"
      },
      "source": [
        ""
      ],
      "execution_count": null,
      "outputs": []
    },
    {
      "cell_type": "code",
      "metadata": {
        "id": "lmkx2cbaaL7G"
      },
      "source": [
        ""
      ],
      "execution_count": null,
      "outputs": []
    },
    {
      "cell_type": "code",
      "metadata": {
        "id": "RzJF4PmsaL9R"
      },
      "source": [
        "path2 = '/content/drive/MyDrive/Major_project_code/MajorCode/chest_xray/train/'\n",
        "train = os.listdir(path2)"
      ],
      "execution_count": null,
      "outputs": []
    },
    {
      "cell_type": "code",
      "metadata": {
        "colab": {
          "base_uri": "https://localhost:8080/"
        },
        "id": "QyapYOfGaL_-",
        "outputId": "08fb1bd8-9b6e-4bbd-a475-64c40fc2e9bd"
      },
      "source": [
        "folders1=[]\n",
        "folders1 = [f for f in sorted(os.listdir(path2))]\n",
        "print(folders1)"
      ],
      "execution_count": null,
      "outputs": [
        {
          "output_type": "stream",
          "text": [
            "['NORMAL', 'PNEUMONIA']\n"
          ],
          "name": "stdout"
        }
      ]
    },
    {
      "cell_type": "code",
      "metadata": {
        "colab": {
          "base_uri": "https://localhost:8080/"
        },
        "id": "9y5MmfrKa2r5",
        "outputId": "7c2d81ee-d0a2-4994-acf2-34d4d70c424c"
      },
      "source": [
        "labels1 = folders1\n",
        "print (f'The labels are {labels1}')\n",
        " \n",
        "# setting the size of images that we want\n",
        " \n",
        "image_size = 224\n",
        "print(f'All images to be resized into {image_size}*{image_size} pixels')"
      ],
      "execution_count": null,
      "outputs": [
        {
          "output_type": "stream",
          "text": [
            "The labels are ['NORMAL', 'PNEUMONIA']\n",
            "All images to be resized into 224*224 pixels\n"
          ],
          "name": "stdout"
        }
      ]
    },
    {
      "cell_type": "code",
      "metadata": {
        "id": "lCAhri1ha2ue"
      },
      "source": [
        "# defining a function to load images and labels together\n",
        "# this function will also resize the images\n",
        " \n",
        "def load_train6(path2):\n",
        "    \n",
        "    images1 = []\n",
        "    \n",
        "    for label in labels1:\n",
        "        direc1 = os.path.join(path2, label)\n",
        "        class_num = labels.index(label)\n",
        "        \n",
        "        for image in os.listdir(direc1):\n",
        "            image_read = cv.imread(os.path.join(direc1,image))\n",
        "            image_resized = cv.resize(image_read,(image_size,image_size),3)#modified here for getting output as (1,224,224,3) not as (224,224)\n",
        "            images1.append([image_resized,class_num])\n",
        "            \n",
        "    return np.array(images1)"
      ],
      "execution_count": null,
      "outputs": []
    },
    {
      "cell_type": "code",
      "metadata": {
        "colab": {
          "base_uri": "https://localhost:8080/"
        },
        "id": "z0r-GQZTa2wl",
        "outputId": "03d08731-7f9f-4eaf-91ed-3b8b24317070"
      },
      "source": [
        "#loading without Grayscale \n",
        "train_images6 = load_train6(path2)\n",
        " \n",
        "print(f'Shape of the training images = {train_images6.shape}')"
      ],
      "execution_count": null,
      "outputs": [
        {
          "output_type": "stream",
          "text": [
            "Shape of the training images = (5216, 2)\n"
          ],
          "name": "stdout"
        },
        {
          "output_type": "stream",
          "text": [
            "/usr/local/lib/python3.7/dist-packages/ipykernel_launcher.py:17: VisibleDeprecationWarning: Creating an ndarray from ragged nested sequences (which is a list-or-tuple of lists-or-tuples-or ndarrays with different lengths or shapes) is deprecated. If you meant to do this, you must specify 'dtype=object' when creating the ndarray\n"
          ],
          "name": "stderr"
        }
      ]
    },
    {
      "cell_type": "code",
      "metadata": {
        "colab": {
          "base_uri": "https://localhost:8080/"
        },
        "id": "d2vQkgU_a217",
        "outputId": "a2ddf416-c1d7-4b03-bec9-0dacadb17792"
      },
      "source": [
        "#loading the images and labels seperately in X and y, to be used later for training\n",
        "X4 = []\n",
        "y4 = []\n",
        "\n",
        "for feature, label in train_images6:\n",
        "    X4.append(feature)\n",
        "    y4.append(label)\n",
        "    \n",
        "print (f'Length of X = {len(X4)}')\n",
        "print (f'Length of y = {len(y4)}')"
      ],
      "execution_count": null,
      "outputs": [
        {
          "output_type": "stream",
          "text": [
            "Length of X = 5216\n",
            "Length of y = 5216\n"
          ],
          "name": "stdout"
        }
      ]
    },
    {
      "cell_type": "code",
      "metadata": {
        "id": "_dE7Latja24w"
      },
      "source": [
        "X41=np.array(X4)\n",
        "y41= np.array(y4)"
      ],
      "execution_count": null,
      "outputs": []
    },
    {
      "cell_type": "code",
      "metadata": {
        "id": "qhH-tw3oa27c"
      },
      "source": [
        "with open('trainpneumoniaandlabels.npy', 'wb') as f:\n",
        "    np.save(f, X41)\n",
        "    np.save(f, y41)"
      ],
      "execution_count": null,
      "outputs": []
    },
    {
      "cell_type": "code",
      "metadata": {
        "id": "7j3Neuy3a29I"
      },
      "source": [
        ""
      ],
      "execution_count": null,
      "outputs": []
    },
    {
      "cell_type": "markdown",
      "metadata": {
        "id": "NyBgwVkBDTLB"
      },
      "source": [
        "Transfer Learning part"
      ]
    },
    {
      "cell_type": "code",
      "metadata": {
        "id": "8pZ5rOjva2_Y"
      },
      "source": [
        "with open('/content/drive/MyDrive/Major_project_code/Array_of_test_and_train/trainpneumoniaandlabels.npy', 'rb') as f:\n",
        "    X41 = np.load(f)\n",
        "    y41 = np.load(f)"
      ],
      "execution_count": null,
      "outputs": []
    },
    {
      "cell_type": "code",
      "metadata": {
        "id": "uLTosM9La3Bx"
      },
      "source": [
        "with open('/content/drive/MyDrive/Major_project_code/Array_of_test_and_train/testpneumoniaandlabels.npy', 'rb') as f:\n",
        "    X51 = np.load(f)\n",
        "    y51 = np.load(f)"
      ],
      "execution_count": null,
      "outputs": []
    },
    {
      "cell_type": "code",
      "metadata": {
        "id": "ZaaK1scsa3D4"
      },
      "source": [
        "from keras.layers import Input, Lambda, Dense, Flatten\n",
        "from keras.models import Model\n",
        "import os\n",
        "from keras.preprocessing import image\n",
        "from keras.preprocessing.image import ImageDataGenerator\n",
        "from keras.models import Sequential\n",
        "import numpy as np\n",
        "from glob import glob\n",
        "import matplotlib.pyplot as plt\n",
        "\n",
        "IMAGE_SIZE = [224, 224]\n",
        "\n",
        "train_path = '/content/drive/MyDrive/Major_project_code/MajorCode/chest_xray/train'\n",
        "valid_path = '/content/drive/MyDrive/Major_project_code/MajorCode/chest_xray/train'"
      ],
      "execution_count": null,
      "outputs": []
    },
    {
      "cell_type": "code",
      "metadata": {
        "id": "Q6UcI7W4a3Fq"
      },
      "source": [
        "import tensorflow as tf\n",
        "vgg1 = tf.keras.applications.DenseNet121(input_shape=IMAGE_SIZE + [3], weights='imagenet', include_top=False)"
      ],
      "execution_count": null,
      "outputs": []
    },
    {
      "cell_type": "code",
      "metadata": {
        "id": "rgAx9D2asyqp"
      },
      "source": [
        "for layer in vgg1.layers:\n",
        "  layer.trainable = False"
      ],
      "execution_count": null,
      "outputs": []
    },
    {
      "cell_type": "code",
      "metadata": {
        "id": "oDCgIVossytM"
      },
      "source": [
        "folders = glob('/content/drive/MyDrive/Major_project_code/MajorCode/chest_xray/train/*')"
      ],
      "execution_count": null,
      "outputs": []
    },
    {
      "cell_type": "code",
      "metadata": {
        "id": "uGsJZZ0zsyvh"
      },
      "source": [
        "x = Flatten()(vgg1.output)\n",
        "x = Dense(1000, activation='relu')(x)\n",
        "prediction = Dense(len(folders), activation='softmax')(x)"
      ],
      "execution_count": null,
      "outputs": []
    },
    {
      "cell_type": "code",
      "metadata": {
        "id": "9mSmGu7Nsyxn"
      },
      "source": [
        "modeled = Model(inputs=vgg1.input, outputs=prediction)"
      ],
      "execution_count": null,
      "outputs": []
    },
    {
      "cell_type": "code",
      "metadata": {
        "id": "PQstEsNVsyzK"
      },
      "source": [
        "modeled.compile(\n",
        "  loss='categorical_crossentropy',\n",
        "  optimizer='adam',\n",
        "  metrics=['accuracy']\n",
        ")"
      ],
      "execution_count": null,
      "outputs": []
    },
    {
      "cell_type": "code",
      "metadata": {
        "id": "-i81b5UVsy1b"
      },
      "source": [
        "import tensorflow as tf\n",
        "training_labels=tf.keras.utils.to_categorical(y41)\n",
        "testing_labels1=tf.keras.utils.to_categorical(y51)"
      ],
      "execution_count": null,
      "outputs": []
    },
    {
      "cell_type": "code",
      "metadata": {
        "id": "SAg98QOY5x8G"
      },
      "source": [
        "modeled.summary()"
      ],
      "execution_count": null,
      "outputs": []
    },
    {
      "cell_type": "code",
      "metadata": {
        "id": "rQG6j0lmaMBY"
      },
      "source": [
        "m2=modeled.fit(X41,training_labels,epochs=50,validation_data=(X51,testing_labels1))#vgg19"
      ],
      "execution_count": null,
      "outputs": []
    },
    {
      "cell_type": "code",
      "metadata": {
        "colab": {
          "base_uri": "https://localhost:8080/"
        },
        "id": "N9usp_2e4wWq",
        "outputId": "f3b7a3e1-7a9b-49d2-e756-d60e1d11aad4"
      },
      "source": [
        "m2=modeled.fit(X41,training_labels,epochs=10,validation_data=(X51,testing_labels1))#Resnet50"
      ],
      "execution_count": null,
      "outputs": [
        {
          "output_type": "stream",
          "text": [
            "Epoch 1/10\n",
            "163/163 [==============================] - 20s 124ms/step - loss: 1.3187e-06 - accuracy: 1.0000 - val_loss: 3.5552 - val_accuracy: 0.7917\n",
            "Epoch 2/10\n",
            "163/163 [==============================] - 20s 124ms/step - loss: 1.2295e-06 - accuracy: 1.0000 - val_loss: 3.5355 - val_accuracy: 0.7917\n",
            "Epoch 3/10\n",
            "163/163 [==============================] - 20s 124ms/step - loss: 1.1564e-06 - accuracy: 1.0000 - val_loss: 3.5803 - val_accuracy: 0.7917\n",
            "Epoch 4/10\n",
            "163/163 [==============================] - 20s 123ms/step - loss: 1.0611e-06 - accuracy: 1.0000 - val_loss: 3.5356 - val_accuracy: 0.7917\n",
            "Epoch 5/10\n",
            "163/163 [==============================] - 20s 124ms/step - loss: 1.0063e-06 - accuracy: 1.0000 - val_loss: 3.5540 - val_accuracy: 0.7917\n",
            "Epoch 6/10\n",
            "163/163 [==============================] - 20s 124ms/step - loss: 9.3213e-07 - accuracy: 1.0000 - val_loss: 3.5903 - val_accuracy: 0.7917\n",
            "Epoch 7/10\n",
            "163/163 [==============================] - 20s 124ms/step - loss: 8.7655e-07 - accuracy: 1.0000 - val_loss: 3.6207 - val_accuracy: 0.7917\n",
            "Epoch 8/10\n",
            "163/163 [==============================] - 20s 124ms/step - loss: 8.1373e-07 - accuracy: 1.0000 - val_loss: 3.5933 - val_accuracy: 0.7917\n",
            "Epoch 9/10\n",
            "163/163 [==============================] - 20s 124ms/step - loss: 7.5863e-07 - accuracy: 1.0000 - val_loss: 3.5690 - val_accuracy: 0.7917\n",
            "Epoch 10/10\n",
            "163/163 [==============================] - 20s 124ms/step - loss: 7.0840e-07 - accuracy: 1.0000 - val_loss: 3.6048 - val_accuracy: 0.7917\n"
          ],
          "name": "stdout"
        }
      ]
    },
    {
      "cell_type": "code",
      "metadata": {
        "colab": {
          "base_uri": "https://localhost:8080/",
          "height": 264
        },
        "id": "j86VixNj9sdo",
        "outputId": "22a67473-78e6-496c-ebc8-aa8183910c57"
      },
      "source": [
        "plt.plot(m2.history['accuracy'], label='accuracy')#Resnet50\n",
        "plt.plot(m2.history['val_accuracy'], label='val_accuracy')\n",
        "plt.plot(m2.history['loss'], label='loss')\n",
        "plt.plot(m2.history['val_loss'], label='val_loss')\n",
        "plt.legend()\n",
        "plt.show()"
      ],
      "execution_count": null,
      "outputs": [
        {
          "output_type": "display_data",
          "data": {
            "image/png": "[encoded data removed]",
            "text/plain": [
              "<Figure size 432x288 with 1 Axes>"
            ]
          },
          "metadata": {
            "tags": [],
            "needs_background": "light"
          }
        }
      ]
    },
    {
      "cell_type": "code",
      "metadata": {
        "colab": {
          "base_uri": "https://localhost:8080/"
        },
        "id": "IpgHlKWy92mq",
        "outputId": "2d8dbaff-3b70-41bf-b00a-96e6de289e68"
      },
      "source": [
        "pred2=modeled.predict(X51)#Resnet50\n",
        "predicted_classes1 = np.argmax(pred2, axis=1)\n",
        "predicted_classes1\n",
        "\n",
        "predicted_labels1=tf.keras.utils.to_categorical(predicted_classes1)\n",
        "\n",
        "from sklearn.metrics import f1_score, confusion_matrix\n",
        "confusion_matrix(predicted_classes1, y51)"
      ],
      "execution_count": null,
      "outputs": [
        {
          "output_type": "execute_result",
          "data": {
            "text/plain": [
              "array([[105,   1],\n",
              "       [129, 389]])"
            ]
          },
          "metadata": {
            "tags": []
          },
          "execution_count": 28
        }
      ]
    },
    {
      "cell_type": "code",
      "metadata": {
        "colab": {
          "base_uri": "https://localhost:8080/"
        },
        "id": "3CWOn1nj-Bb-",
        "outputId": "60d04414-ba0e-472a-fe65-90ab6dc0b026"
      },
      "source": [
        "import sklearn#Resnet50\n",
        "p1=sklearn.metrics.classification_report(y51,predicted_classes1)\n",
        "print(p1)"
      ],
      "execution_count": null,
      "outputs": [
        {
          "output_type": "stream",
          "text": [
            "              precision    recall  f1-score   support\n",
            "\n",
            "           0       0.99      0.45      0.62       234\n",
            "           1       0.75      1.00      0.86       390\n",
            "\n",
            "    accuracy                           0.79       624\n",
            "   macro avg       0.87      0.72      0.74       624\n",
            "weighted avg       0.84      0.79      0.77       624\n",
            "\n"
          ],
          "name": "stdout"
        }
      ]
    },
    {
      "cell_type": "markdown",
      "metadata": {
        "id": "Tye6YGkTDNlz"
      },
      "source": [
        "My algo"
      ]
    },
    {
      "cell_type": "code",
      "metadata": {
        "id": "xnYKVEbRDAtf"
      },
      "source": [
        "import numpy as np"
      ],
      "execution_count": null,
      "outputs": []
    },
    {
      "cell_type": "code",
      "metadata": {
        "id": "TRzhsIrKDjWR"
      },
      "source": [
        "with open('/content/drive/MyDrive/Major_project_code/Array_of_test_and_train/trainpneumoniaandlabels.npy', 'rb') as f:\n",
        "    X41 = np.load(f)\n",
        "    y41 = np.load(f)"
      ],
      "execution_count": null,
      "outputs": []
    },
    {
      "cell_type": "code",
      "metadata": {
        "id": "zjeZMmpKDjS-"
      },
      "source": [
        "with open('/content/drive/MyDrive/Major_project_code/Array_of_test_and_train/testpneumoniaandlabels.npy', 'rb') as f:\n",
        "    X51 = np.load(f)\n",
        "    y51 = np.load(f)"
      ],
      "execution_count": null,
      "outputs": []
    },
    {
      "cell_type": "markdown",
      "metadata": {
        "id": "ImYyjH0fDu-m"
      },
      "source": [
        "If needed weights balancing then use it"
      ]
    },
    {
      "cell_type": "code",
      "metadata": {
        "id": "2AMIFsc8DjP2"
      },
      "source": [
        "from sklearn.utils import class_weight\n",
        "import numpy as np\n",
        " \n",
        "class_weights = class_weight.compute_class_weight(\n",
        "               'balanced',\n",
        "                np.unique(training_set.classes), \n",
        "                training_set.classes)"
      ],
      "execution_count": null,
      "outputs": []
    },
    {
      "cell_type": "code",
      "metadata": {
        "id": "OmpwOC6QDjMY"
      },
      "source": [
        "class_weights"
      ],
      "execution_count": null,
      "outputs": []
    },
    {
      "cell_type": "code",
      "metadata": {
        "id": "yYMK8dt0DjKW"
      },
      "source": [
        "class_weighted={0: 6.86138614, 1: 0.68852459, 2: 0.7133299}"
      ],
      "execution_count": null,
      "outputs": []
    },
    {
      "cell_type": "markdown",
      "metadata": {
        "id": "zO30OHPdEWBu"
      },
      "source": [
        "Needed weights code ended here"
      ]
    },
    {
      "cell_type": "markdown",
      "metadata": {
        "id": "6iwf8iZMEV36"
      },
      "source": [
        ""
      ]
    },
    {
      "cell_type": "code",
      "metadata": {
        "id": "wTAQVgVfDjH6"
      },
      "source": [
        "import tensorflow as tf\n",
        "training_labels=tf.keras.utils.to_categorical(y41)\n",
        "testing_labels1=tf.keras.utils.to_categorical(y51)"
      ],
      "execution_count": null,
      "outputs": []
    },
    {
      "cell_type": "code",
      "metadata": {
        "id": "fRJHoVuhDjGC"
      },
      "source": [
        "# baseline model with data augmentation on the X-Ray dataset\n",
        "import sys\n",
        "from matplotlib import pyplot\n",
        "from keras.models import Model\n",
        "from tensorflow.keras.utils import to_categorical\n",
        "from tensorflow.keras.models import Sequential\n",
        "from tensorflow.keras.layers import Conv2D\n",
        "from tensorflow.keras.layers import MaxPooling2D\n",
        "from tensorflow.keras.layers import Dense\n",
        "from tensorflow.keras.layers import Flatten,Dropout\n",
        "from tensorflow.keras.optimizers import Adam \n",
        "from tensorflow.keras.preprocessing.image import ImageDataGenerator\n",
        "from tensorflow.keras.layers import BatchNormalization\n",
        "import tensorflow as tf\n",
        "import keras.backend as K"
      ],
      "execution_count": null,
      "outputs": []
    },
    {
      "cell_type": "code",
      "metadata": {
        "id": "GTNwGCohDjDn"
      },
      "source": [
        "def precision(y_true, y_pred): #taken from old keras source code\n",
        "    true_positives = K.sum(K.round(K.clip(y_true * y_pred, 0, 1)))\n",
        "    predicted_positives = K.sum(K.round(K.clip(y_pred, 0, 1)))\n",
        "    precision = true_positives / (predicted_positives + K.epsilon())\n",
        "    return precision\n",
        "def recall(y_true, y_pred): #taken from old keras source code\n",
        "    true_positives = K.sum(K.round(K.clip(y_true * y_pred, 0, 1)))\n",
        "    possible_positives = K.sum(K.round(K.clip(y_true, 0, 1)))\n",
        "    recall = true_positives / (possible_positives + K.epsilon())\n",
        "    return recall\n",
        "\n",
        "model = Sequential()\n",
        "model.add(Conv2D(32, (3, 3), activation='relu', kernel_initializer='he_uniform', padding='same', input_shape=(224,224, 3)))\n",
        "model.add(Conv2D(32, (3, 3), activation='relu', kernel_initializer='he_uniform', padding='same'))\n",
        "model.add(MaxPooling2D((2, 2)))\n",
        "\n",
        "model.add(Conv2D(64, (3, 3), activation='relu', kernel_initializer='he_uniform', padding='same'))\n",
        "model.add(Conv2D(64, (3, 3), activation='relu', kernel_initializer='he_uniform', padding='same'))\n",
        "model.add(MaxPooling2D((2, 2)))\n",
        "\n",
        "model.add(Conv2D(128, (3, 3), activation='relu', kernel_initializer='he_uniform', padding='same'))\n",
        "model.add(Conv2D(128, (3, 3), activation='relu', kernel_initializer='he_uniform', padding='same'))\n",
        "model.add(MaxPooling2D((2, 2)))\n",
        "\n",
        "model.add(Conv2D(256, (3, 3), activation='relu', kernel_initializer='he_uniform', padding='same'))\n",
        "model.add(Conv2D(256, (3, 3), activation='relu', kernel_initializer='he_uniform', padding='same'))\n",
        "model.add(Conv2D(256, (3, 3), activation='relu', kernel_initializer='he_uniform', padding='same'))\n",
        "model.add(Conv2D(256, (3, 3), activation='relu', kernel_initializer='he_uniform', padding='same'))\n",
        "model.add(MaxPooling2D((2, 2)))\n",
        "model.add(Conv2D(512, (3, 3), activation='relu', kernel_initializer='he_uniform', padding='same'))\n",
        "model.add(Conv2D(512, (3, 3), activation='relu', kernel_initializer='he_uniform', padding='same'))\n",
        "model.add(Conv2D(512, (3, 3), activation='relu', kernel_initializer='he_uniform', padding='same'))\n",
        "model.add(Conv2D(512, (3, 3), activation='relu', kernel_initializer='he_uniform', padding='same'))\n",
        "model.add(MaxPooling2D((2, 2)))\n",
        "\n",
        "model.add(Flatten())\n",
        "model.add(Dense(512, activation='relu', kernel_initializer='he_uniform'))\n",
        "model.add(Dense(512, activation='relu', kernel_initializer='he_uniform'))\n",
        "\n",
        "model.add(Dense(3, activation='softmax'))\n",
        "# compile model\n",
        "opt =  Adam()\n",
        "model.compile(optimizer=opt, loss='categorical_crossentropy', metrics=['accuracy', precision, recall])"
      ],
      "execution_count": null,
      "outputs": []
    },
    {
      "cell_type": "code",
      "metadata": {
        "id": "ZieKlXdhDjCE"
      },
      "source": [
        "#without smoting, but with metrics=['precision','recall']\n",
        "#@tf.function got this without augmentation just by scratch code with class_weights\n",
        "\"\"\"m2=model.fit(X41,training_labels,epochs=30,validation_data=(X51,testing_labels1),class_weight=class_weighted)\"\"\"#working after making y41 to (training_labels=tf.keras.utils.to_categorical(y41))"
      ],
      "execution_count": null,
      "outputs": []
    },
    {
      "cell_type": "code",
      "metadata": {
        "colab": {
          "base_uri": "https://localhost:8080/"
        },
        "id": "jyvNLjeYZIKu",
        "outputId": "9bdd1ab0-a535-46f3-d97e-21fab6377212"
      },
      "source": [
        "training_labels.shape"
      ],
      "execution_count": null,
      "outputs": [
        {
          "output_type": "execute_result",
          "data": {
            "text/plain": [
              "(5216, 2)"
            ]
          },
          "metadata": {
            "tags": []
          },
          "execution_count": 20
        }
      ]
    },
    {
      "cell_type": "code",
      "metadata": {
        "id": "uncFo4VVDi_L"
      },
      "source": [
        "m2=model.fit(X41,training_labels,epochs=30,validation_data=(X51,testing_labels1))"
      ],
      "execution_count": null,
      "outputs": []
    },
    {
      "cell_type": "code",
      "metadata": {
        "id": "53DBOgegDi9f"
      },
      "source": [
        ""
      ],
      "execution_count": null,
      "outputs": []
    },
    {
      "cell_type": "code",
      "metadata": {
        "id": "WltCEzXiWHK3"
      },
      "source": [
        ""
      ],
      "execution_count": null,
      "outputs": []
    },
    {
      "cell_type": "markdown",
      "metadata": {
        "id": "5LEG1Ip5Eeo9"
      },
      "source": [
        "My algo ended here"
      ]
    }
  ]
}