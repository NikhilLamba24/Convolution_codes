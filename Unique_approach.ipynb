{
  "nbformat": 4,
  "nbformat_minor": 0,
  "metadata": {
    "colab": {
      "name": "Unique_approach.ipynb",
      "provenance": [],
      "collapsed_sections": []
    },
    "kernelspec": {
      "display_name": "Python 3",
      "name": "python3"
    },
    "accelerator": "GPU"
  },
  "cells": [
    {
      "cell_type": "code",
      "metadata": {
        "id": "IyYi1fi9PUhb"
      },
      "source": [
        "#just trying the fusion of io and cv codes\n",
        "def load_trained(path):\n",
        "    \n",
        "    images = []\n",
        "    \n",
        "    for label in labels:\n",
        "        direc = os.path.join(path, label)\n",
        "        class_num = labels.index(label)\n",
        "        \n",
        "        for image in os.listdir(direc):\n",
        "            img = io.imread(os.path.join(direc,image))\n",
        "            img = img.reshape([224,224, 3])\n",
        "            #image_resized = cv.resize(image_read,(image_size,image_size),3)#modified here for getting output as (1,224,224,3) not as (224,224)\n",
        "            images.append([image_resized,class_num])\n",
        "            \n",
        "    return np.array(images)"
      ],
      "execution_count": null,
      "outputs": []
    },
    {
      "cell_type": "code",
      "metadata": {
        "id": "y7UYaG-Vbxd5"
      },
      "source": [
        "train_images1 = load_trained(path)\n",
        " \n",
        "print(f'Shape of the training images = {train_images1.shape}')"
      ],
      "execution_count": null,
      "outputs": []
    },
    {
      "cell_type": "code",
      "metadata": {
        "id": "f0DkgPIOJZJX"
      },
      "source": [
        "all_images = []\n",
        "for image_path in os.listdir(\"/content/drive/MyDrive/set2forgooglecolab/set2imagescmp/train/set1/\"):\n",
        "  img = io.imread(image_path)\n",
        "  img = img.reshape([WIDTH, HEIGHT, 3])\n",
        "  all_images.append(img)\n",
        "x_train = np.array(all_images)"
      ],
      "execution_count": null,
      "outputs": []
    },
    {
      "cell_type": "code",
      "metadata": {
        "id": "QF04NW9Arevs"
      },
      "source": [
        "import os"
      ],
      "execution_count": null,
      "outputs": []
    },
    {
      "cell_type": "code",
      "metadata": {
        "id": "cOnkRXNSJZAn"
      },
      "source": [
        "import skimage\n",
        "from skimage import io\n"
      ],
      "execution_count": null,
      "outputs": []
    },
    {
      "cell_type": "code",
      "metadata": {
        "id": "fjhGkKyLJYis"
      },
      "source": [
        ""
      ],
      "execution_count": null,
      "outputs": []
    },
    {
      "cell_type": "markdown",
      "metadata": {
        "id": "4TxnvzR2kbAr"
      },
      "source": [
        "Doing it for as per (A simple CNN\"https://towardsdatascience.com/a-simple-cnn-multi-image-classifier-31c463324fa\") for testing data"
      ]
    },
    {
      "cell_type": "code",
      "metadata": {
        "id": "XilcdENkjvnO"
      },
      "source": [
        "import numpy as np                     \n",
        "import matplotlib.pyplot as plt\n",
        "import os\n",
        "import cv2 as cv\n",
        "import random\n",
        "from tqdm import tqdm\n",
        "from keras.preprocessing import image"
      ],
      "execution_count": null,
      "outputs": []
    },
    {
      "cell_type": "code",
      "metadata": {
        "id": "W1TRNsG_jvkF"
      },
      "source": [
        "path1 = '/content/drive/MyDrive/set2forgooglecolab/set2imagescmp/test/'\n",
        "train = os.listdir(path1)"
      ],
      "execution_count": null,
      "outputs": []
    },
    {
      "cell_type": "code",
      "metadata": {
        "colab": {
          "base_uri": "https://localhost:8080/"
        },
        "id": "AolNuJzujvhZ",
        "outputId": "769810ff-5987-4f71-89e9-aa69cc0096ce"
      },
      "source": [
        "folders=[]\n",
        "folders = [f for f in sorted(os.listdir(path1))]\n",
        "print(folders)"
      ],
      "execution_count": null,
      "outputs": [
        {
          "output_type": "stream",
          "text": [
            "['set1', 'set2', 'set3']\n"
          ],
          "name": "stdout"
        }
      ]
    },
    {
      "cell_type": "code",
      "metadata": {
        "colab": {
          "base_uri": "https://localhost:8080/"
        },
        "id": "284fYEPgkAJv",
        "outputId": "6fd673a6-b622-433b-af9b-3f3e3fbd3851"
      },
      "source": [
        "labels = folders\n",
        "print (f'The labels are {labels}')\n",
        " \n",
        "# setting the size of images that we want\n",
        " \n",
        "image_size = 224\n",
        "print(f'All images to be resized into {image_size}*{image_size} pixels')"
      ],
      "execution_count": null,
      "outputs": [
        {
          "output_type": "stream",
          "text": [
            "The labels are ['set1', 'set2', 'set3']\n",
            "All images to be resized into 224*224 pixels\n"
          ],
          "name": "stdout"
        }
      ]
    },
    {
      "cell_type": "code",
      "metadata": {
        "id": "IqiceG9MkAUA"
      },
      "source": [
        "# defining a function to load images and labels together\n",
        "# this function will also resize the images\n",
        " \n",
        "def load_train5(path1):\n",
        "    \n",
        "    images = []\n",
        "    \n",
        "    for label in labels:\n",
        "        direc = os.path.join(path1, label)\n",
        "        class_num = labels.index(label)\n",
        "        \n",
        "        for image in os.listdir(direc):\n",
        "            image_read = cv.imread(os.path.join(direc,image))\n",
        "            image_resized = cv.resize(image_read,(image_size,image_size),3)#modified here for getting output as (1,224,224,3) not as (224,224)\n",
        "            images.append([image_resized,class_num])\n",
        "            \n",
        "    return np.array(images)"
      ],
      "execution_count": null,
      "outputs": []
    },
    {
      "cell_type": "code",
      "metadata": {
        "colab": {
          "base_uri": "https://localhost:8080/"
        },
        "id": "IQEDOL_jjveh",
        "outputId": "0af15711-3de8-4298-d95a-0cb2037f0326"
      },
      "source": [
        "#loading without Grayscale \n",
        "train_images5 = load_train5(path1)\n",
        " \n",
        "print(f'Shape of the training images = {train_images5.shape}')"
      ],
      "execution_count": null,
      "outputs": [
        {
          "output_type": "stream",
          "text": [
            "Shape of the training images = (1523, 2)\n"
          ],
          "name": "stdout"
        }
      ]
    },
    {
      "cell_type": "code",
      "metadata": {
        "colab": {
          "base_uri": "https://localhost:8080/"
        },
        "id": "RbEdfpTdkS6f",
        "outputId": "572eccad-a603-4606-84bc-c4b8bfcc8069"
      },
      "source": [
        "train_images5.shape"
      ],
      "execution_count": null,
      "outputs": [
        {
          "output_type": "execute_result",
          "data": {
            "text/plain": [
              "(1523, 2)"
            ]
          },
          "metadata": {
            "tags": []
          },
          "execution_count": 8
        }
      ]
    },
    {
      "cell_type": "code",
      "metadata": {
        "colab": {
          "base_uri": "https://localhost:8080/"
        },
        "id": "959xBqpRkS3p",
        "outputId": "69dca64c-b7e9-41d2-c8a7-6df1cc3274d5"
      },
      "source": [
        "#loading the images and labels seperately in X and y, to be used later for training\n",
        "X5 = []\n",
        "y5 = []\n",
        "\n",
        "for feature, label in train_images5:\n",
        "    X5.append(feature)\n",
        "    y5.append(label)\n",
        "    \n",
        "print (f'Length of X = {len(X5)}')\n",
        "print (f'Length of y = {len(y5)}')"
      ],
      "execution_count": null,
      "outputs": [
        {
          "output_type": "stream",
          "text": [
            "Length of X = 1523\n",
            "Length of y = 1523\n"
          ],
          "name": "stdout"
        }
      ]
    },
    {
      "cell_type": "code",
      "metadata": {
        "id": "y2PVZ1n1kS1F"
      },
      "source": [
        "X51=np.array(X5)\n",
        "y51= np.array(y5)"
      ],
      "execution_count": null,
      "outputs": []
    },
    {
      "cell_type": "code",
      "metadata": {
        "id": "fAnZdiyikx9y"
      },
      "source": [
        ""
      ],
      "execution_count": null,
      "outputs": []
    },
    {
      "cell_type": "code",
      "metadata": {
        "id": "htiGPFBvkSvq"
      },
      "source": [
        ""
      ],
      "execution_count": null,
      "outputs": []
    },
    {
      "cell_type": "markdown",
      "metadata": {
        "id": "bP46JMoSkowR"
      },
      "source": [
        "Trying it for testing data ended here"
      ]
    },
    {
      "cell_type": "code",
      "metadata": {
        "id": "UL-q9u6_kSsX"
      },
      "source": [
        ""
      ],
      "execution_count": null,
      "outputs": []
    },
    {
      "cell_type": "code",
      "metadata": {
        "id": "pfnCMxgNjvaw"
      },
      "source": [
        ""
      ],
      "execution_count": null,
      "outputs": []
    },
    {
      "cell_type": "code",
      "metadata": {
        "id": "PYXvOfYTjvX5"
      },
      "source": [
        "i = []  # trick to increase the performance of your cloud GPUs and stick to the optimal performance from very beginning\n",
        "while(True):\n",
        "\n",
        "    i.append('a')"
      ],
      "execution_count": null,
      "outputs": []
    },
    {
      "cell_type": "code",
      "metadata": {
        "id": "XwyDwTrfw1LD"
      },
      "source": [
        "import numpy as np                     \n",
        "import matplotlib.pyplot as plt\n",
        "import os\n",
        "import cv2 as cv\n",
        "import random\n",
        "from tqdm import tqdm\n",
        "from keras.preprocessing import image"
      ],
      "execution_count": null,
      "outputs": []
    },
    {
      "cell_type": "code",
      "metadata": {
        "id": "gUucMt1tw68a"
      },
      "source": [
        "path = '/content/drive/My Drive/set2forgooglecolab/set2imagescmp/train/'\n",
        "train = os.listdir(path)"
      ],
      "execution_count": null,
      "outputs": []
    },
    {
      "cell_type": "code",
      "metadata": {
        "colab": {
          "base_uri": "https://localhost:8080/"
        },
        "id": "otKNYCXyw80T",
        "outputId": "e62eede8-5e8f-4456-ad9b-37442080be54"
      },
      "source": [
        "folders=[]\n",
        "folders = [f for f in sorted(os.listdir(path))]\n",
        "print(folders)"
      ],
      "execution_count": null,
      "outputs": [
        {
          "output_type": "stream",
          "text": [
            "['set1', 'set2', 'set3']\n"
          ],
          "name": "stdout"
        }
      ]
    },
    {
      "cell_type": "code",
      "metadata": {
        "colab": {
          "base_uri": "https://localhost:8080/"
        },
        "id": "o8rA5V_vw82e",
        "outputId": "05eb620c-e5f2-444b-c708-54b1119385b3"
      },
      "source": [
        "labels = folders\n",
        "print (f'The labels are {labels}')\n",
        " \n",
        "# setting the size of images that we want\n",
        " \n",
        "image_size = 224\n",
        "print(f'All images to be resized into {image_size}*{image_size} pixels')"
      ],
      "execution_count": null,
      "outputs": [
        {
          "output_type": "stream",
          "text": [
            "The labels are ['set1', 'set2', 'set3']\n",
            "All images to be resized into 224*224 pixels\n"
          ],
          "name": "stdout"
        }
      ]
    },
    {
      "cell_type": "code",
      "metadata": {
        "colab": {
          "base_uri": "https://localhost:8080/",
          "height": 69
        },
        "id": "MbhA6llV5Wd-",
        "outputId": "d961ae5e-beba-4100-d502-620780f6af1d"
      },
      "source": [
        "\"\"\"  #trying of \n",
        "  train_image = []\n",
        "  for i in tqdm(range(8316)):\n",
        "      img = image.load_img('/content/drive/My Drive/set2forgooglecolab/set2imagescmp/train/'+train['Id'][i]+'.jpg',target_size=(224,224,3))\n",
        "      img = image.img_to_array(img)\n",
        "      img = img/255\n",
        "      train_image.append(img)\n",
        "  X = np.array(train_image)\"\"\""
      ],
      "execution_count": null,
      "outputs": [
        {
          "output_type": "execute_result",
          "data": {
            "application/vnd.google.colaboratory.intrinsic+json": {
              "type": "string"
            },
            "text/plain": [
              "\"  #trying of \\n  train_image = []\\n  for i in tqdm(range(8316)):\\n      img = image.load_img('/content/drive/My Drive/set2forgooglecolab/set2imagescmp/train/'+train['Id'][i]+'.jpg',target_size=(224,224,3))\\n      img = image.img_to_array(img)\\n      img = img/255\\n      train_image.append(img)\\n  X = np.array(train_image)\""
            ]
          },
          "metadata": {
            "tags": []
          },
          "execution_count": 5
        }
      ]
    },
    {
      "cell_type": "code",
      "metadata": {
        "id": "8wmaXl_zw84d"
      },
      "source": [
        "# defining a function to load images and labels together\n",
        "# this function will also resize the images\n",
        " \n",
        "def load_train(path):\n",
        "    \n",
        "    images = []\n",
        "    \n",
        "    for label in labels:\n",
        "        direc = os.path.join(path, label)\n",
        "        class_num = labels.index(label)\n",
        "        \n",
        "        for image in os.listdir(direc):\n",
        "            image_read = cv.imread(os.path.join(direc,image))\n",
        "            image_resized = cv.resize(image_read,(image_size,image_size),3)#modified here for getting output as (1,224,224,3) not as (224,224)\n",
        "            images.append([image_resized,class_num])\n",
        "            \n",
        "    return np.array(images)"
      ],
      "execution_count": null,
      "outputs": []
    },
    {
      "cell_type": "code",
      "metadata": {
        "id": "-cMx7NkUynLP"
      },
      "source": [
        "#load all the training images to train_images\n",
        " `  `\n",
        "train_images = load_train(path)\n",
        " \n",
        "print(f'Shape of the training images = {train_images.shape}')"
      ],
      "execution_count": null,
      "outputs": []
    },
    {
      "cell_type": "code",
      "metadata": {
        "id": "jCIOwU6-tZ45"
      },
      "source": [
        "i = []\n",
        "\n",
        "while(True):\n",
        "\n",
        "    i.append('a')"
      ],
      "execution_count": null,
      "outputs": []
    },
    {
      "cell_type": "markdown",
      "metadata": {
        "id": "w8BFxdgRee0x"
      },
      "source": [
        "Trying to do -1,224,224,3 but -1,224,224,1 is done"
      ]
    },
    {
      "cell_type": "code",
      "metadata": {
        "colab": {
          "base_uri": "https://localhost:8080/"
        },
        "id": "Y_HXnvyMeQ2b",
        "outputId": "f961a8c1-730f-4749-e7a1-c2c178a13663"
      },
      "source": [
        "#loading without Grayscale \n",
        "train_images2 = load_train(path)\n",
        " \n",
        "print(f'Shape of the training images = {train_images2.shape}')"
      ],
      "execution_count": null,
      "outputs": [
        {
          "output_type": "stream",
          "text": [
            "Shape of the training images = (8316, 2)\n"
          ],
          "name": "stdout"
        }
      ]
    },
    {
      "cell_type": "code",
      "metadata": {
        "id": "vQSq8tQUilSU"
      },
      "source": [
        "\n",
        "train_images2.shape"
      ],
      "execution_count": null,
      "outputs": []
    },
    {
      "cell_type": "code",
      "metadata": {
        "id": "0A30t4Giw8_A"
      },
      "source": [
        "#loading the images and labels seperately in X and y, to be used later for training\n",
        "X = []\n",
        "y = []\n",
        "\n",
        "for feature, label in train_images:\n",
        "    X.append(feature)\n",
        "    y.append(label)\n",
        "    \n",
        "print (f'Length of X = {len(X)}')\n",
        "print (f'Length of y = {len(y)}')"
      ],
      "execution_count": null,
      "outputs": []
    },
    {
      "cell_type": "code",
      "metadata": {
        "colab": {
          "base_uri": "https://localhost:8080/"
        },
        "id": "AsZNwMpgTZcj",
        "outputId": "989876d3-58f4-4b26-dc7d-e91cf3c4d6eb"
      },
      "source": [
        "y41"
      ],
      "execution_count": null,
      "outputs": [
        {
          "output_type": "execute_result",
          "data": {
            "text/plain": [
              "array([0, 0, 0, ..., 2, 2, 2])"
            ]
          },
          "metadata": {
            "tags": []
          },
          "execution_count": 17
        }
      ]
    },
    {
      "cell_type": "markdown",
      "metadata": {
        "id": "DyC6GY7DfOpR"
      },
      "source": [
        "done for -1,224,224,3"
      ]
    },
    {
      "cell_type": "code",
      "metadata": {
        "colab": {
          "base_uri": "https://localhost:8080/"
        },
        "id": "D8XG362lfGO7",
        "outputId": "403b4eae-2264-40fd-ef0c-9d34f84064a3"
      },
      "source": [
        "#loading the images and labels seperately in X and y, to be used later for training\n",
        "X4 = []\n",
        "y4 = []\n",
        "\n",
        "for feature, label in train_images2:\n",
        "    X4.append(feature)\n",
        "    y4.append(label)\n",
        "    \n",
        "print (f'Length of X = {len(X4)}')\n",
        "print (f'Length of y = {len(y4)}')"
      ],
      "execution_count": null,
      "outputs": [
        {
          "output_type": "stream",
          "text": [
            "Length of X = 8316\n",
            "Length of y = 8316\n"
          ],
          "name": "stdout"
        }
      ]
    },
    {
      "cell_type": "code",
      "metadata": {
        "id": "GZzEQidlfUIs"
      },
      "source": [
        "X41=np.array(X4)\n",
        "y41= np.array(y4)"
      ],
      "execution_count": null,
      "outputs": []
    },
    {
      "cell_type": "code",
      "metadata": {
        "id": "fTN3n6fXfhZG"
      },
      "source": [
        "X_train4, X_test4, y_train4, y_test4 = train_test_split(X41, y41, test_size=0.2,random_state = 32)"
      ],
      "execution_count": null,
      "outputs": []
    },
    {
      "cell_type": "code",
      "metadata": {
        "id": "PKSXcEczkjkH"
      },
      "source": [
        "X1=np.array(X)"
      ],
      "execution_count": null,
      "outputs": []
    },
    {
      "cell_type": "code",
      "metadata": {
        "id": "V78IrZ6HkF7P"
      },
      "source": [
        "#y.type\n",
        "y1 = np.array(y)"
      ],
      "execution_count": null,
      "outputs": []
    },
    {
      "cell_type": "code",
      "metadata": {
        "colab": {
          "base_uri": "https://localhost:8080/"
        },
        "id": "33B6gdQFkbvm",
        "outputId": "878de530-5e37-4044-a8b7-04da00d1e73f"
      },
      "source": [
        "X1.shape"
      ],
      "execution_count": null,
      "outputs": [
        {
          "output_type": "execute_result",
          "data": {
            "text/plain": [
              "(8316, 224, 224)"
            ]
          },
          "metadata": {
            "tags": []
          },
          "execution_count": 11
        }
      ]
    },
    {
      "cell_type": "code",
      "metadata": {
        "id": "PZyHSiV7aanX"
      },
      "source": [
        "X2=X1.reshape(-1,224,224,1)"
      ],
      "execution_count": null,
      "outputs": []
    },
    {
      "cell_type": "code",
      "metadata": {
        "id": "Q7inH8ttbPS_"
      },
      "source": [
        "y2=y1.reshape()"
      ],
      "execution_count": null,
      "outputs": []
    },
    {
      "cell_type": "code",
      "metadata": {
        "colab": {
          "base_uri": "https://localhost:8080/"
        },
        "id": "K0w5wHrPbKkT",
        "outputId": "c2c7d2c7-714d-4968-bcdd-d5b07892c6dd"
      },
      "source": [
        "X2.shape"
      ],
      "execution_count": null,
      "outputs": [
        {
          "output_type": "execute_result",
          "data": {
            "text/plain": [
              "(8316, 224, 224, 1)"
            ]
          },
          "metadata": {
            "tags": []
          },
          "execution_count": 13
        }
      ]
    },
    {
      "cell_type": "code",
      "metadata": {
        "id": "j_XnHJu1gNaH"
      },
      "source": [
        "for i in tqdm(range(8316)):\n",
        "  print(X[i])"
      ],
      "execution_count": null,
      "outputs": []
    },
    {
      "cell_type": "code",
      "metadata": {
        "colab": {
          "base_uri": "https://localhost:8080/"
        },
        "id": "au11C3cUZ8zg",
        "outputId": "09767d9e-ba6c-4612-aad3-f0f142049e39"
      },
      "source": [
        "np.shape(X[0][100])"
      ],
      "execution_count": null,
      "outputs": [
        {
          "output_type": "execute_result",
          "data": {
            "text/plain": [
              "(224,)"
            ]
          },
          "metadata": {
            "tags": []
          },
          "execution_count": 36
        }
      ]
    },
    {
      "cell_type": "code",
      "metadata": {
        "id": "AtJdJlGYY5nK"
      },
      "source": [
        "IMG_SIZE=224"
      ],
      "execution_count": null,
      "outputs": []
    },
    {
      "cell_type": "code",
      "metadata": {
        "id": "NU_Dk-O1Yq0t"
      },
      "source": [
        "X1 = np.array([i[0] for i in X]).reshape(-1,IMG_SIZE,IMG_SIZE,3)###########################\n",
        "Y1 = [i[1] for i in train]\n",
        "\n",
        "test_x = np.array([i[0] for i in y]).reshape(-1,IMG_SIZE,IMG_SIZE,1)\n",
        "test_y = [i[1] for i in test]"
      ],
      "execution_count": null,
      "outputs": []
    },
    {
      "cell_type": "code",
      "metadata": {
        "colab": {
          "base_uri": "https://localhost:8080/"
        },
        "id": "WCpAJRct0QAv",
        "outputId": "741522a7-0ba8-486c-bcd3-235d090a294f"
      },
      "source": [
        "np.shape(X)"
      ],
      "execution_count": null,
      "outputs": [
        {
          "output_type": "execute_result",
          "data": {
            "text/plain": [
              "(8316, 224, 224)"
            ]
          },
          "metadata": {
            "tags": []
          },
          "execution_count": 66
        }
      ]
    },
    {
      "cell_type": "code",
      "metadata": {
        "colab": {
          "base_uri": "https://localhost:8080/",
          "height": 346
        },
        "id": "tGaR4w3Hw9Br",
        "outputId": "05239563-adf7-4d38-9625-f39da4505453"
      },
      "source": [
        "# checking the number of images of each class\n",
        "\n",
        "a = 0\n",
        "b = 0\n",
        "c = 0\n",
        "\n",
        "for label in y:\n",
        "    if label == 0:\n",
        "        a += 1\n",
        "    if label == 1:\n",
        "        b += 1\n",
        "    if label == 2:\n",
        "        c += 1\n",
        "        \n",
        "print (f'Number of Normal images = {a}')\n",
        "print (f'Number of Bacteria images = {b}')\n",
        "print (f'Number of Virus images = {c}')\n",
        "\n",
        "# plotting the data\n",
        "\n",
        "x_pos = [i for i, _ in enumerate(labels)]\n",
        "numbers = [a,b,c]\n",
        "plt.bar(x_pos,numbers,color = 'green')\n",
        "plt.xlabel(\"Labels\")\n",
        "plt.ylabel(\"No. of images\")\n",
        "plt.title(\"Images for each label\")\n",
        "\n",
        "plt.xticks(x_pos, labels)\n",
        "\n",
        "plt.show()"
      ],
      "execution_count": null,
      "outputs": [
        {
          "output_type": "stream",
          "text": [
            "Number of Normal images = 404\n",
            "Number of Bacteria images = 4026\n",
            "Number of Virus images = 3886\n"
          ],
          "name": "stdout"
        },
        {
          "output_type": "display_data",
          "data": {
            "image/png": "[encoded data removed]",
            "text/plain": [
              "<Figure size 432x288 with 1 Axes>"
            ]
          },
          "metadata": {
            "tags": []
          }
        }
      ]
    },
    {
      "cell_type": "code",
      "metadata": {
        "id": "LNCDcebdw9D3"
      },
      "source": [
        "import numpy as np\n",
        "import pandas as pd\n",
        "import cv2 as cv\n",
        "import matplotlib.pyplot as plt\n",
        "import os\n",
        "import random\n",
        "\n",
        "from sklearn.model_selection import train_test_split"
      ],
      "execution_count": null,
      "outputs": []
    },
    {
      "cell_type": "code",
      "metadata": {
        "id": "J6fwUoh2IP6N"
      },
      "source": [
        "X_train, X_test, y_train, y_test = train_test_split(X1, y1, test_size=0.2,random_state = 32, stratify=y)"
      ],
      "execution_count": null,
      "outputs": []
    },
    {
      "cell_type": "code",
      "metadata": {
        "id": "Tc9UUwytlL_1"
      },
      "source": [
        "X_train, X_test, y_train, y_test = train_test_split(X2, y1, test_size=0.2,random_state = 32)"
      ],
      "execution_count": null,
      "outputs": []
    },
    {
      "cell_type": "code",
      "metadata": {
        "colab": {
          "base_uri": "https://localhost:8080/"
        },
        "id": "93Lt6iQAZlwO",
        "outputId": "726763fc-bc3f-4273-98c1-32d34d0c1d98"
      },
      "source": [
        "np.shape(X_train)"
      ],
      "execution_count": null,
      "outputs": [
        {
          "output_type": "execute_result",
          "data": {
            "text/plain": [
              "(6652, 224, 224)"
            ]
          },
          "metadata": {
            "tags": []
          },
          "execution_count": 24
        }
      ]
    },
    {
      "cell_type": "code",
      "metadata": {
        "colab": {
          "base_uri": "https://localhost:8080/"
        },
        "id": "ULqHdN_egW36",
        "outputId": "b0483b0b-a1e0-44ac-cc2e-244a62ee060a"
      },
      "source": [
        "#X_train0reshape=X_train[0].reshape(1,224,224,3)\n",
        "#np.shape(X_train[0])\n",
        "X_train[0]"
      ],
      "execution_count": null,
      "outputs": [
        {
          "output_type": "execute_result",
          "data": {
            "text/plain": [
              "array([[0, 0, 0, ..., 0, 0, 0],\n",
              "       [0, 0, 0, ..., 0, 0, 0],\n",
              "       [0, 0, 0, ..., 0, 0, 0],\n",
              "       ...,\n",
              "       [5, 5, 5, ..., 0, 0, 0],\n",
              "       [6, 5, 5, ..., 0, 0, 0],\n",
              "       [6, 5, 7, ..., 0, 0, 0]], dtype=uint8)"
            ]
          },
          "metadata": {
            "tags": []
          },
          "execution_count": 26
        }
      ]
    },
    {
      "cell_type": "code",
      "metadata": {
        "id": "-01waFbtIP-2"
      },
      "source": [
        "X_trains = np.array(X_train)\n",
        "y_trains = np.array(y_train)"
      ],
      "execution_count": null,
      "outputs": []
    },
    {
      "cell_type": "code",
      "metadata": {
        "id": "GRWYMqfpIQBT"
      },
      "source": [
        "\n",
        "nsamples, nx, ny = X_trains.shape"
      ],
      "execution_count": null,
      "outputs": []
    },
    {
      "cell_type": "code",
      "metadata": {
        "id": "RsFLsBSJIQDz"
      },
      "source": [
        "X_trained = X_trains.reshape((nsamples,nx*ny))"
      ],
      "execution_count": null,
      "outputs": []
    },
    {
      "cell_type": "code",
      "metadata": {
        "colab": {
          "base_uri": "https://localhost:8080/"
        },
        "id": "kRIaQLh9IQGs",
        "outputId": "af7983c5-32a1-4e8b-e57a-687ef8e67d23"
      },
      "source": [
        "import imblearn\n",
        "from imblearn import under_sampling \n",
        "from imblearn import over_sampling\n",
        "from imblearn.over_sampling import SMOTE"
      ],
      "execution_count": null,
      "outputs": [
        {
          "output_type": "stream",
          "text": [
            "/usr/local/lib/python3.6/dist-packages/sklearn/externals/six.py:31: FutureWarning: The module is deprecated in version 0.21 and will be removed in version 0.23 since we've dropped support for Python 2.7. Please rely on the official version of six (https://pypi.org/project/six/).\n",
            "  \"(https://pypi.org/project/six/).\", FutureWarning)\n",
            "/usr/local/lib/python3.6/dist-packages/sklearn/utils/deprecation.py:144: FutureWarning: The sklearn.neighbors.base module is  deprecated in version 0.22 and will be removed in version 0.24. The corresponding classes / functions should instead be imported from sklearn.neighbors. Anything that cannot be imported from sklearn.neighbors is now part of the private API.\n",
            "  warnings.warn(message, FutureWarning)\n"
          ],
          "name": "stderr"
        }
      ]
    },
    {
      "cell_type": "code",
      "metadata": {
        "colab": {
          "base_uri": "https://localhost:8080/"
        },
        "id": "UJAYOK-zIQJ7",
        "outputId": "a7e59462-8560-412a-d8e6-d64553cc2596"
      },
      "source": [
        "from imblearn.over_sampling import SMOTE\n",
        "sm = SMOTE(random_state=42)\n",
        "X_smote, y_smote = sm.fit_resample(X_trained, y_trains)"
      ],
      "execution_count": null,
      "outputs": [
        {
          "output_type": "stream",
          "text": [
            "/usr/local/lib/python3.6/dist-packages/sklearn/utils/deprecation.py:87: FutureWarning: Function safe_indexing is deprecated; safe_indexing is deprecated in version 0.22 and will be removed in version 0.24.\n",
            "  warnings.warn(msg, category=FutureWarning)\n",
            "/usr/local/lib/python3.6/dist-packages/sklearn/utils/deprecation.py:87: FutureWarning: Function safe_indexing is deprecated; safe_indexing is deprecated in version 0.22 and will be removed in version 0.24.\n",
            "  warnings.warn(msg, category=FutureWarning)\n"
          ],
          "name": "stderr"
        }
      ]
    },
    {
      "cell_type": "code",
      "metadata": {
        "colab": {
          "base_uri": "https://localhost:8080/"
        },
        "id": "WlrDwoz6IfxI",
        "outputId": "f8f05b21-8caf-434f-c45e-266a92be0673"
      },
      "source": [
        "y_smote"
      ],
      "execution_count": null,
      "outputs": [
        {
          "output_type": "execute_result",
          "data": {
            "text/plain": [
              "array([1, 2, 2, ..., 2, 2, 2])"
            ]
          },
          "metadata": {
            "tags": []
          },
          "execution_count": 84
        }
      ]
    },
    {
      "cell_type": "markdown",
      "metadata": {
        "id": "KvgE5QyRqQUI"
      },
      "source": [
        "Just trying to split the data after smoting is done"
      ]
    },
    {
      "cell_type": "code",
      "metadata": {
        "id": "VXm_nhm2qPib"
      },
      "source": [
        "X_trains, X_tests, y_trains, y_tests = train_test_split(X_smote, y_smote, test_size=0.2,random_state = 32)"
      ],
      "execution_count": null,
      "outputs": []
    },
    {
      "cell_type": "markdown",
      "metadata": {
        "id": "ueWETinTqTgm"
      },
      "source": [
        "Try for data splitting regarding smoting is done here"
      ]
    },
    {
      "cell_type": "code",
      "metadata": {
        "id": "t83ROeUgw9Gf"
      },
      "source": [
        "nsamples, nx1 = X_smote.shape"
      ],
      "execution_count": null,
      "outputs": []
    },
    {
      "cell_type": "code",
      "metadata": {
        "id": "kVQdM2uJw9J8"
      },
      "source": [
        "X_smoted = X_smote.reshape((nsamples,224,224))"
      ],
      "execution_count": null,
      "outputs": []
    },
    {
      "cell_type": "code",
      "metadata": {
        "id": "7j9Igz6krMMP"
      },
      "source": [
        "X_smoted1 = X_smote.reshape((nsamples,224,224,3))"
      ],
      "execution_count": null,
      "outputs": []
    },
    {
      "cell_type": "code",
      "metadata": {
        "colab": {
          "base_uri": "https://localhost:8080/"
        },
        "id": "BvmDItainGOC",
        "outputId": "2f39e211-03f1-44a0-9a3a-8ffe58170764"
      },
      "source": [
        "X_smoted.shape"
      ],
      "execution_count": null,
      "outputs": [
        {
          "output_type": "execute_result",
          "data": {
            "text/plain": [
              "(9660, 224, 224)"
            ]
          },
          "metadata": {
            "tags": []
          },
          "execution_count": 71
        }
      ]
    },
    {
      "cell_type": "code",
      "metadata": {
        "id": "0KnIy-5fJD7l"
      },
      "source": [
        "X_list = X_smoted.tolist()"
      ],
      "execution_count": null,
      "outputs": []
    },
    {
      "cell_type": "code",
      "metadata": {
        "id": "nVW8XTgQJD_D"
      },
      "source": [
        "y_list = y_smote.tolist()"
      ],
      "execution_count": null,
      "outputs": []
    },
    {
      "cell_type": "code",
      "metadata": {
        "id": "gRidDOqCJIOS"
      },
      "source": [
        "np.shape(y_list)"
      ],
      "execution_count": null,
      "outputs": []
    },
    {
      "cell_type": "code",
      "metadata": {
        "id": "7JUtEnvoJKXS"
      },
      "source": [
        "# checking the number of images of each class\n",
        "\n",
        "a = 0\n",
        "b = 0\n",
        "c = 0\n",
        "\n",
        "for label in y_list:\n",
        "    if label == 0:\n",
        "        a += 1\n",
        "    if label == 1:\n",
        "        b += 1\n",
        "    if label == 2:\n",
        "        c += 1\n",
        "        \n",
        "print (f'Number of Normal images = {a}')\n",
        "print (f'Number of Bacteria images = {b}')\n",
        "print (f'Number of Virus images = {c}')\n",
        "\n",
        "# plotting the data\n",
        "\n",
        "x_pos = [i for i, _ in enumerate(labels)]\n",
        "numbers = [a,b,c]\n",
        "plt.bar(x_pos,numbers,color = 'green')\n",
        "plt.xlabel(\"Labels\")\n",
        "plt.ylabel(\"No. of images\")\n",
        "plt.title(\"Images for each label\")\n",
        "\n",
        "plt.xticks(x_pos, labels)\n",
        "\n",
        "plt.show()"
      ],
      "execution_count": null,
      "outputs": []
    },
    {
      "cell_type": "code",
      "metadata": {
        "id": "j4mlLfi8hZmJ"
      },
      "source": [
        "import tensorflow as tf"
      ],
      "execution_count": null,
      "outputs": []
    },
    {
      "cell_type": "code",
      "metadata": {
        "colab": {
          "base_uri": "https://localhost:8080/"
        },
        "id": "y-Vy2Rt2heKH",
        "outputId": "cb4ba46f-83ce-4dc4-fde2-114208022da1"
      },
      "source": [
        "print(tf.__version__)"
      ],
      "execution_count": null,
      "outputs": [
        {
          "output_type": "stream",
          "text": [
            "2.3.0\n"
          ],
          "name": "stdout"
        }
      ]
    },
    {
      "cell_type": "code",
      "metadata": {
        "id": "0psktyJzYpvW"
      },
      "source": [
        ""
      ],
      "execution_count": null,
      "outputs": []
    },
    {
      "cell_type": "code",
      "metadata": {
        "id": "RMIqLzJLYpyq"
      },
      "source": [
        "from keras.layers import Input, Lambda, Dense, Flatten\n",
        "from keras.models import Model\n",
        "import os\n",
        "from keras.preprocessing import image\n",
        "from keras.preprocessing.image import ImageDataGenerator\n",
        "from keras.models import Sequential\n",
        "import numpy as np\n",
        "from glob import glob\n",
        "import matplotlib.pyplot as plt"
      ],
      "execution_count": null,
      "outputs": []
    },
    {
      "cell_type": "code",
      "metadata": {
        "id": "Vg-qVmVhYxDL"
      },
      "source": [
        "IMAGE_SIZE = [224, 224]"
      ],
      "execution_count": null,
      "outputs": []
    },
    {
      "cell_type": "code",
      "metadata": {
        "id": "qgBSfTaEYzTK"
      },
      "source": [
        "train_path = '/content/drive/MyDrive/set2forgooglecolab/set2imagescmp/train'\n",
        "valid_path = '/content/drive/MyDrive/set2forgooglecolab/set2imagescmp/test'"
      ],
      "execution_count": null,
      "outputs": []
    },
    {
      "cell_type": "code",
      "metadata": {
        "colab": {
          "base_uri": "https://localhost:8080/"
        },
        "id": "hk2FV_hbYzWF",
        "outputId": "73411994-b052-4891-de55-de56f88c00a6"
      },
      "source": [
        "import tensorflow as tf\n",
        "vgg = tf.keras.applications.VGG16(input_shape=IMAGE_SIZE + [3], weights='imagenet', include_top=False)"
      ],
      "execution_count": null,
      "outputs": [
        {
          "output_type": "stream",
          "text": [
            "Downloading data from https://storage.googleapis.com/tensorflow/keras-applications/vgg16/vgg16_weights_tf_dim_ordering_tf_kernels_notop.h5\n",
            "58892288/58889256 [==============================] - 0s 0us/step\n"
          ],
          "name": "stdout"
        }
      ]
    },
    {
      "cell_type": "code",
      "metadata": {
        "id": "e1ar6N8nYzYA"
      },
      "source": [
        "for layer in vgg.layers:\n",
        "  layer.trainable = False"
      ],
      "execution_count": null,
      "outputs": []
    },
    {
      "cell_type": "code",
      "metadata": {
        "id": "IOGRbp4sYzcj"
      },
      "source": [
        "folders = glob('/content/drive/MyDrive/set2forgooglecolab/set2imagescmp/train/*')"
      ],
      "execution_count": null,
      "outputs": []
    },
    {
      "cell_type": "code",
      "metadata": {
        "id": "MLFiuFk7YzgG"
      },
      "source": [
        "x = Flatten()(vgg.output)\n",
        "x = Dense(1000, activation='relu')(x)\n",
        "prediction = Dense(len(folders), activation='softmax')(x)"
      ],
      "execution_count": null,
      "outputs": []
    },
    {
      "cell_type": "code",
      "metadata": {
        "id": "CZqqLZSGY7i7"
      },
      "source": [
        "model = Model(inputs=vgg.input, outputs=prediction)"
      ],
      "execution_count": null,
      "outputs": []
    },
    {
      "cell_type": "code",
      "metadata": {
        "colab": {
          "base_uri": "https://localhost:8080/"
        },
        "id": "lgKf9UpNYzjI",
        "outputId": "32282843-d5cb-470a-dc75-9dd0f50e2618"
      },
      "source": [
        "model.summary()"
      ],
      "execution_count": null,
      "outputs": [
        {
          "output_type": "stream",
          "text": [
            "Model: \"functional_1\"\n",
            "_________________________________________________________________\n",
            "Layer (type)                 Output Shape              Param #   \n",
            "=================================================================\n",
            "input_1 (InputLayer)         [(None, 224, 224, 3)]     0         \n",
            "_________________________________________________________________\n",
            "block1_conv1 (Conv2D)        (None, 224, 224, 64)      1792      \n",
            "_________________________________________________________________\n",
            "block1_conv2 (Conv2D)        (None, 224, 224, 64)      36928     \n",
            "_________________________________________________________________\n",
            "block1_pool (MaxPooling2D)   (None, 112, 112, 64)      0         \n",
            "_________________________________________________________________\n",
            "block2_conv1 (Conv2D)        (None, 112, 112, 128)     73856     \n",
            "_________________________________________________________________\n",
            "block2_conv2 (Conv2D)        (None, 112, 112, 128)     147584    \n",
            "_________________________________________________________________\n",
            "block2_pool (MaxPooling2D)   (None, 56, 56, 128)       0         \n",
            "_________________________________________________________________\n",
            "block3_conv1 (Conv2D)        (None, 56, 56, 256)       295168    \n",
            "_________________________________________________________________\n",
            "block3_conv2 (Conv2D)        (None, 56, 56, 256)       590080    \n",
            "_________________________________________________________________\n",
            "block3_conv3 (Conv2D)        (None, 56, 56, 256)       590080    \n",
            "_________________________________________________________________\n",
            "block3_pool (MaxPooling2D)   (None, 28, 28, 256)       0         \n",
            "_________________________________________________________________\n",
            "block4_conv1 (Conv2D)        (None, 28, 28, 512)       1180160   \n",
            "_________________________________________________________________\n",
            "block4_conv2 (Conv2D)        (None, 28, 28, 512)       2359808   \n",
            "_________________________________________________________________\n",
            "block4_conv3 (Conv2D)        (None, 28, 28, 512)       2359808   \n",
            "_________________________________________________________________\n",
            "block4_pool (MaxPooling2D)   (None, 14, 14, 512)       0         \n",
            "_________________________________________________________________\n",
            "block5_conv1 (Conv2D)        (None, 14, 14, 512)       2359808   \n",
            "_________________________________________________________________\n",
            "block5_conv2 (Conv2D)        (None, 14, 14, 512)       2359808   \n",
            "_________________________________________________________________\n",
            "block5_conv3 (Conv2D)        (None, 14, 14, 512)       2359808   \n",
            "_________________________________________________________________\n",
            "block5_pool (MaxPooling2D)   (None, 7, 7, 512)         0         \n",
            "_________________________________________________________________\n",
            "flatten (Flatten)            (None, 25088)             0         \n",
            "_________________________________________________________________\n",
            "dense (Dense)                (None, 1000)              25089000  \n",
            "_________________________________________________________________\n",
            "dense_1 (Dense)              (None, 3)                 3003      \n",
            "=================================================================\n",
            "Total params: 39,806,691\n",
            "Trainable params: 25,092,003\n",
            "Non-trainable params: 14,714,688\n",
            "_________________________________________________________________\n"
          ],
          "name": "stdout"
        }
      ]
    },
    {
      "cell_type": "code",
      "metadata": {
        "id": "XSWefkAVYzfC"
      },
      "source": [
        "model.compile(\n",
        "  loss='categorical_crossentropy',\n",
        "  optimizer='adam',\n",
        "  metrics=['accuracy']\n",
        ")"
      ],
      "execution_count": null,
      "outputs": []
    },
    {
      "cell_type": "markdown",
      "metadata": {
        "id": "tJVNgIE9VF7L"
      },
      "source": [
        "Trying labels from ImageDataGenerator"
      ]
    },
    {
      "cell_type": "code",
      "metadata": {
        "colab": {
          "base_uri": "https://localhost:8080/"
        },
        "id": "3T0JT8BcU27u",
        "outputId": "618cb185-b92e-460b-a246-ab809d11fe69"
      },
      "source": [
        "from keras.preprocessing.image import ImageDataGenerator\n",
        " \n",
        "train_datagen = ImageDataGenerator(rescale = 1./255,width_shift_range=0.2, height_shift_range=0.2,brightness_range=[0.2,1.0],\n",
        "                                   shear_range = 0.2,\n",
        "                                   zoom_range = 0.2,\n",
        "                                   horizontal_flip = True)\n",
        " \n",
        "test_datagen = ImageDataGenerator(rescale = 1./255)\n",
        " \n",
        "training_set = train_datagen.flow_from_directory('/content/drive/MyDrive/set2forgooglecolab/set2imagescmp/train',\n",
        "                                                 target_size = (224, 224),\n",
        "                                                 batch_size = 64,\n",
        "                                                 class_mode = 'categorical')\n",
        " \n",
        "test_set = test_datagen.flow_from_directory('/content/drive/MyDrive/set2forgooglecolab/set2imagescmp/test',\n",
        "                                            target_size = (224, 224),\n",
        "                                            batch_size = 64,\n",
        "                                            class_mode = 'categorical')"
      ],
      "execution_count": null,
      "outputs": [
        {
          "output_type": "stream",
          "text": [
            "Found 8316 images belonging to 3 classes.\n",
            "Found 1523 images belonging to 3 classes.\n"
          ],
          "name": "stdout"
        }
      ]
    },
    {
      "cell_type": "code",
      "metadata": {
        "id": "j-pgwmEEVmNJ"
      },
      "source": [
        " from sklearn.utils import class_weight\n",
        "import numpy as np\n",
        " \n",
        "class_weights = class_weight.compute_class_weight(\n",
        "               'balanced',\n",
        "                np.unique(training_set.classes), \n",
        "                training_set.classes)"
      ],
      "execution_count": null,
      "outputs": []
    },
    {
      "cell_type": "code",
      "metadata": {
        "colab": {
          "base_uri": "https://localhost:8080/"
        },
        "id": "lZLCyi4xWMx9",
        "outputId": "6c0d9d66-a245-496e-9f8b-5445f038a270"
      },
      "source": [
        "class_weights"
      ],
      "execution_count": null,
      "outputs": [
        {
          "output_type": "execute_result",
          "data": {
            "text/plain": [
              "array([6.86138614, 0.68852459, 0.7133299 ])"
            ]
          },
          "metadata": {
            "tags": []
          },
          "execution_count": 4
        }
      ]
    },
    {
      "cell_type": "code",
      "metadata": {
        "id": "hSmTp6wQlFxC"
      },
      "source": [
        "from collections import Counter\n",
        "counter = Counter(training_set.classes)\n",
        "max_val = float(max(counter.values()))\n",
        "class_weights = {class_id : max_val/num_images for class_id, num_images in counter.items()}"
      ],
      "execution_count": null,
      "outputs": []
    },
    {
      "cell_type": "code",
      "metadata": {
        "colab": {
          "base_uri": "https://localhost:8080/"
        },
        "id": "50mrtBJvldqX",
        "outputId": "8203e3ac-3606-4ca4-e334-495df51c3873"
      },
      "source": [
        "class_weights#not working well"
      ],
      "execution_count": null,
      "outputs": [
        {
          "output_type": "execute_result",
          "data": {
            "text/plain": [
              "{0: 9.965346534653465, 1: 1.0, 2: 1.036026762738034}"
            ]
          },
          "metadata": {
            "tags": []
          },
          "execution_count": 29
        }
      ]
    },
    {
      "cell_type": "code",
      "metadata": {
        "id": "7zlVzbqLVgS9"
      },
      "source": [
        "from keras.utils.np_utils import to_categorical\n",
        "num_classes = len(training_set.class_indices) \n",
        "train_labels = training_set.classes \n",
        "train_labels1 = to_categorical(train_labels, num_classes=num_classes)"
      ],
      "execution_count": null,
      "outputs": []
    },
    {
      "cell_type": "code",
      "metadata": {
        "id": "l7or0fPHWzm-"
      },
      "source": [
        "num_classes = len(test_set.class_indices) \n",
        "test_labels = test_set.classes \n",
        "test_labels = to_categorical(test_labels, num_classes=num_classes)"
      ],
      "execution_count": null,
      "outputs": []
    },
    {
      "cell_type": "markdown",
      "metadata": {
        "id": "TXoqvHkkVORP"
      },
      "source": [
        "Trying labels from ImageDataGenerator Ended here"
      ]
    },
    {
      "cell_type": "code",
      "metadata": {
        "id": "Karf9OUSZGyC"
      },
      "source": [
        "r2 = model.fit(\n",
        "    {'input': X}, {'targets': Y}, n_epoch=3, validation_set=({'input': test_x}, {'targets': test_y}), \n",
        "    snapshot_step=500, show_metric=True, run_id=MODEL_NAME\n",
        "  \n",
        "  \n",
        "  \n",
        "  \n",
        "  \n",
        "  training_set,\n",
        "  validation_data=test_set,\n",
        "  epochs=10,\n",
        "  steps_per_epoch=len(training_set),\n",
        "  validation_steps=len(test_set),\n",
        "  class_weight = class_weights\n",
        ")"
      ],
      "execution_count": null,
      "outputs": []
    },
    {
      "cell_type": "code",
      "metadata": {
        "id": "En4oSQ5HaVGK"
      },
      "source": [
        "model.fit"
      ],
      "execution_count": null,
      "outputs": []
    },
    {
      "cell_type": "code",
      "metadata": {
        "id": "A3FwXY9Plwp9"
      },
      "source": [
        "import tensorflow as tf\n",
        "\n",
        "train_data = tf.data.Dataset.from_tensor_slices((X_trains, y_trains))\n",
        "valid_data = tf.data.Dataset.from_tensor_slices((X_tests, y_tests))"
      ],
      "execution_count": null,
      "outputs": []
    },
    {
      "cell_type": "code",
      "metadata": {
        "id": "CjbLpBgImau1"
      },
      "source": [
        "r3=model.fit(X_train4,y_train4, epochs=10)###################################################"
      ],
      "execution_count": null,
      "outputs": []
    },
    {
      "cell_type": "code",
      "metadata": {
        "id": "BnnZTa_812XF"
      },
      "source": [
        "y_train4.type"
      ],
      "execution_count": null,
      "outputs": []
    },
    {
      "cell_type": "code",
      "metadata": {
        "id": "CV6BylUklzP9"
      },
      "source": [
        "r2=model.fit(x=X_train4,y=y_train,epochs=10)#########################################################"
      ],
      "execution_count": null,
      "outputs": []
    },
    {
      "cell_type": "code",
      "metadata": {
        "id": "eKr68uVDljsL"
      },
      "source": [
        "import tensorflow as tf"
      ],
      "execution_count": null,
      "outputs": []
    },
    {
      "cell_type": "code",
      "metadata": {
        "id": "GVv4TzcelUyn"
      },
      "source": [
        "y_train = tf.keras.utils.to_categorical(y_train4, 3)\n",
        "y_test = tf.keras.utils.to_categorical(y_test4, 3)"
      ],
      "execution_count": null,
      "outputs": []
    },
    {
      "cell_type": "code",
      "metadata": {
        "colab": {
          "base_uri": "https://localhost:8080/"
        },
        "id": "SVtCYEPpmD4h",
        "outputId": "98c978fe-804d-4b77-d89a-d432c70e9c97"
      },
      "source": [
        "y_train4.shape"
      ],
      "execution_count": null,
      "outputs": [
        {
          "output_type": "execute_result",
          "data": {
            "text/plain": [
              "(6652,)"
            ]
          },
          "metadata": {
            "tags": []
          },
          "execution_count": 60
        }
      ]
    },
    {
      "cell_type": "code",
      "metadata": {
        "colab": {
          "base_uri": "https://localhost:8080/"
        },
        "id": "YrCLWszLmHM0",
        "outputId": "0a2b6fa4-bbb6-425a-a3bf-b9d9aa0d1d02"
      },
      "source": [
        "y_test4.shape"
      ],
      "execution_count": null,
      "outputs": [
        {
          "output_type": "execute_result",
          "data": {
            "text/plain": [
              "(1664,)"
            ]
          },
          "metadata": {
            "tags": []
          },
          "execution_count": 61
        }
      ]
    },
    {
      "cell_type": "code",
      "metadata": {
        "id": "K8f1dot3mKkx"
      },
      "source": [
        ""
      ],
      "execution_count": null,
      "outputs": []
    },
    {
      "cell_type": "code",
      "metadata": {
        "id": "Qqhl20svZRGv"
      },
      "source": [
        "r2=model.fit(model,{'input': X_train4}, {'targets': y_train4}, epochs=10, validation_data=({'input': X_test4}, {'targets': y_test}))###########################"
      ],
      "execution_count": null,
      "outputs": []
    },
    {
      "cell_type": "markdown",
      "metadata": {
        "id": "UJ81AKyTzoGP"
      },
      "source": [
        "Saving the numpy arrays computed for (-1,224,224,3)"
      ]
    },
    {
      "cell_type": "code",
      "metadata": {
        "colab": {
          "base_uri": "https://localhost:8080/"
        },
        "id": "6gFwdpmxYpcZ",
        "outputId": "a93a051f-3168-44c1-8c93-a8740e202eee"
      },
      "source": [
        "X51.shape"
      ],
      "execution_count": null,
      "outputs": [
        {
          "output_type": "execute_result",
          "data": {
            "text/plain": [
              "(1523, 224, 224, 3)"
            ]
          },
          "metadata": {
            "tags": []
          },
          "execution_count": 54
        }
      ]
    },
    {
      "cell_type": "code",
      "metadata": {
        "id": "9rSBB145XVmG"
      },
      "source": [
        "model.fit_generator(X41,train_labels,epochs=7,validation_data=(X51,test_labels))#####################################"
      ],
      "execution_count": null,
      "outputs": []
    },
    {
      "cell_type": "code",
      "metadata": {
        "id": "0SO-mzdhXVjc"
      },
      "source": [
        "r2=model.fit_generator({'input': X41}, {'targets': train_labels}, epochs=10, #########################################\n",
        "             validation_data=({'input': X51},\n",
        "                              {'targets': test_labels}))"
      ],
      "execution_count": null,
      "outputs": []
    },
    {
      "cell_type": "code",
      "metadata": {
        "id": "Bp2xPKOhwdLf"
      },
      "source": [
        "import tensorflow as tf\n",
        "training_labels=tf.keras.utils.to_categorical(y41)\n",
        "testing_labels1=tf.keras.utils.to_categorical(y51)"
      ],
      "execution_count": null,
      "outputs": []
    },
    {
      "cell_type": "markdown",
      "metadata": {
        "id": "jJyDlu2hyp4T"
      },
      "source": [
        "Working on custom model but not on VGG16 or others"
      ]
    },
    {
      "cell_type": "code",
      "metadata": {
        "id": "dX7urKaZyGax"
      },
      "source": [
        "# baseline model with data augmentation on the X-Ray dataset\n",
        "import sys\n",
        "from matplotlib import pyplot\n",
        "from keras.models import Model\n",
        "from tensorflow.keras.utils import to_categorical\n",
        "from tensorflow.keras.models import Sequential\n",
        "from tensorflow.keras.layers import Conv2D\n",
        "from tensorflow.keras.layers import MaxPooling2D\n",
        "from tensorflow.keras.layers import Dense\n",
        "from tensorflow.keras.layers import Flatten,Dropout\n",
        "from tensorflow.keras.optimizers import Adam \n",
        "from tensorflow.keras.preprocessing.image import ImageDataGenerator\n",
        "from tensorflow.keras.layers import BatchNormalization\n",
        "import tensorflow as tf"
      ],
      "execution_count": null,
      "outputs": []
    },
    {
      "cell_type": "code",
      "metadata": {
        "id": "EUCciTj8xuol"
      },
      "source": [
        "model = Sequential()\n",
        "model.add(Conv2D(32, (3, 3), activation='relu', kernel_initializer='he_uniform', padding='same', input_shape=(224,224, 3)))\n",
        "model.add(Conv2D(32, (3, 3), activation='relu', kernel_initializer='he_uniform', padding='same'))\n",
        "model.add(MaxPooling2D((2, 2)))\n",
        "\n",
        "model.add(Conv2D(64, (3, 3), activation='relu', kernel_initializer='he_uniform', padding='same'))\n",
        "model.add(Conv2D(64, (3, 3), activation='relu', kernel_initializer='he_uniform', padding='same'))\n",
        "model.add(MaxPooling2D((2, 2)))\n",
        "\n",
        "model.add(Conv2D(128, (3, 3), activation='relu', kernel_initializer='he_uniform', padding='same'))\n",
        "model.add(Conv2D(128, (3, 3), activation='relu', kernel_initializer='he_uniform', padding='same'))\n",
        "model.add(MaxPooling2D((2, 2)))\n",
        "\n",
        "model.add(Conv2D(256, (3, 3), activation='relu', kernel_initializer='he_uniform', padding='same'))\n",
        "model.add(Conv2D(256, (3, 3), activation='relu', kernel_initializer='he_uniform', padding='same'))\n",
        "model.add(Conv2D(256, (3, 3), activation='relu', kernel_initializer='he_uniform', padding='same'))\n",
        "model.add(Conv2D(256, (3, 3), activation='relu', kernel_initializer='he_uniform', padding='same'))\n",
        "model.add(MaxPooling2D((2, 2)))\n",
        "model.add(Conv2D(512, (3, 3), activation='relu', kernel_initializer='he_uniform', padding='same'))\n",
        "model.add(Conv2D(512, (3, 3), activation='relu', kernel_initializer='he_uniform', padding='same'))\n",
        "model.add(Conv2D(512, (3, 3), activation='relu', kernel_initializer='he_uniform', padding='same'))\n",
        "model.add(Conv2D(512, (3, 3), activation='relu', kernel_initializer='he_uniform', padding='same'))\n",
        "model.add(MaxPooling2D((2, 2)))\n",
        "\n",
        "model.add(Flatten())\n",
        "model.add(Dense(512, activation='relu', kernel_initializer='he_uniform'))\n",
        "model.add(Dense(512, activation='relu', kernel_initializer='he_uniform'))\n",
        "\n",
        "model.add(Dense(3, activation='softmax'))\n",
        "# compile model\n",
        "opt =  Adam()\n",
        "model.compile(optimizer=opt, loss='categorical_crossentropy', metrics=['accuracy'])"
      ],
      "execution_count": null,
      "outputs": []
    },
    {
      "cell_type": "code",
      "metadata": {
        "colab": {
          "base_uri": "https://localhost:8080/"
        },
        "id": "J6V9mly8ww-Q",
        "outputId": "c6d138b0-6d62-4cf8-9935-9bcbf74cdf71"
      },
      "source": [
        "#training_labels[0]\n",
        "X41.shape"
      ],
      "execution_count": null,
      "outputs": [
        {
          "output_type": "execute_result",
          "data": {
            "text/plain": [
              "(8316, 224, 224, 3)"
            ]
          },
          "metadata": {
            "tags": []
          },
          "execution_count": 21
        }
      ]
    },
    {
      "cell_type": "code",
      "metadata": {
        "colab": {
          "base_uri": "https://localhost:8080/"
        },
        "id": "9Husww_DSKkk",
        "outputId": "cbf1679f-1237-44a3-c5b7-e3fea7d2931f"
      },
      "source": [
        "#@tf.function got this without augmentation just by scratch code with class_weights\n",
        "m2=model.fit(X41,training_labels,epochs=25,validation_data=(X51,testing_labels1),class_weight=class_weights)#working after making y41 to (training_labels=tf.keras.utils.to_categorical(y41))"
      ],
      "execution_count": null,
      "outputs": [
        {
          "output_type": "stream",
          "text": [
            "Epoch 1/25\n",
            "121/260 [============>.................] - ETA: 51:41 - loss: 1002.9841 - accuracy: 0.5938"
          ],
          "name": "stdout"
        }
      ]
    },
    {
      "cell_type": "code",
      "metadata": {
        "colab": {
          "base_uri": "https://localhost:8080/"
        },
        "id": "MqGMOY5KXVgg",
        "outputId": "4bc6a3c0-d284-4a5e-d49b-cc4a9d313c91"
      },
      "source": [
        "#@tf.function got this without augmentation just by scratch code\n",
        "m1=model.fit(X41,training_labels,epochs=25,validation_data=(X51,testing_labels1))#working after making y41 to (training_labels=tf.keras.utils.to_categorical(y41))"
      ],
      "execution_count": null,
      "outputs": [
        {
          "output_type": "stream",
          "text": [
            "Epoch 1/25\n",
            "  2/260 [..............................] - ETA: 13s - loss: 161226.9531 - accuracy: 0.3906WARNING:tensorflow:Callbacks method `on_train_batch_end` is slow compared to the batch time (batch time: 0.0346s vs `on_train_batch_end` time: 0.0640s). Check your callbacks.\n",
            "260/260 [==============================] - 28s 106ms/step - loss: 1242.9039 - accuracy: 0.8528 - val_loss: 0.1960 - val_accuracy: 0.9337\n",
            "Epoch 2/25\n",
            "260/260 [==============================] - 27s 102ms/step - loss: 0.1762 - accuracy: 0.9441 - val_loss: 0.1598 - val_accuracy: 0.9501\n",
            "Epoch 3/25\n",
            "260/260 [==============================] - 27s 102ms/step - loss: 0.1530 - accuracy: 0.9506 - val_loss: 0.2140 - val_accuracy: 0.9304\n",
            "Epoch 4/25\n",
            "260/260 [==============================] - 26s 102ms/step - loss: 0.1933 - accuracy: 0.9392 - val_loss: 0.2273 - val_accuracy: 0.9363\n",
            "Epoch 5/25\n",
            "260/260 [==============================] - 26s 102ms/step - loss: 0.1895 - accuracy: 0.9405 - val_loss: 0.1547 - val_accuracy: 0.9429\n",
            "Epoch 6/25\n",
            "260/260 [==============================] - 27s 102ms/step - loss: 0.1366 - accuracy: 0.9550 - val_loss: 0.2108 - val_accuracy: 0.9245\n",
            "Epoch 7/25\n",
            "260/260 [==============================] - 27s 102ms/step - loss: 0.1151 - accuracy: 0.9618 - val_loss: 0.1524 - val_accuracy: 0.9560\n",
            "Epoch 8/25\n",
            "260/260 [==============================] - 27s 102ms/step - loss: 0.0999 - accuracy: 0.9673 - val_loss: 0.1423 - val_accuracy: 0.9580\n",
            "Epoch 9/25\n",
            "260/260 [==============================] - 27s 102ms/step - loss: 0.0956 - accuracy: 0.9699 - val_loss: 0.1326 - val_accuracy: 0.9580\n",
            "Epoch 10/25\n",
            "260/260 [==============================] - 27s 102ms/step - loss: 0.0903 - accuracy: 0.9711 - val_loss: 0.1248 - val_accuracy: 0.9632\n",
            "Epoch 11/25\n",
            "260/260 [==============================] - 26s 102ms/step - loss: 0.0990 - accuracy: 0.9681 - val_loss: 0.1259 - val_accuracy: 0.9593\n",
            "Epoch 12/25\n",
            "260/260 [==============================] - 26s 102ms/step - loss: 0.1320 - accuracy: 0.9601 - val_loss: 0.1590 - val_accuracy: 0.9481\n",
            "Epoch 13/25\n",
            "260/260 [==============================] - 27s 102ms/step - loss: 0.1736 - accuracy: 0.9489 - val_loss: 0.1309 - val_accuracy: 0.9580\n",
            "Epoch 14/25\n",
            "260/260 [==============================] - 26s 102ms/step - loss: 0.0864 - accuracy: 0.9725 - val_loss: 0.2917 - val_accuracy: 0.8930\n",
            "Epoch 15/25\n",
            "260/260 [==============================] - 26s 102ms/step - loss: 0.0940 - accuracy: 0.9692 - val_loss: 0.2322 - val_accuracy: 0.9383\n",
            "Epoch 16/25\n",
            "260/260 [==============================] - 27s 102ms/step - loss: 0.0815 - accuracy: 0.9741 - val_loss: 0.1117 - val_accuracy: 0.9632\n",
            "Epoch 17/25\n",
            "260/260 [==============================] - 27s 102ms/step - loss: 0.0679 - accuracy: 0.9773 - val_loss: 0.1171 - val_accuracy: 0.9639\n",
            "Epoch 18/25\n",
            "260/260 [==============================] - 27s 102ms/step - loss: 0.0619 - accuracy: 0.9788 - val_loss: 0.1224 - val_accuracy: 0.9705\n",
            "Epoch 19/25\n",
            "260/260 [==============================] - 26s 102ms/step - loss: 0.0627 - accuracy: 0.9773 - val_loss: 0.1205 - val_accuracy: 0.9665\n",
            "Epoch 20/25\n",
            "260/260 [==============================] - 27s 102ms/step - loss: 0.0665 - accuracy: 0.9775 - val_loss: 0.1128 - val_accuracy: 0.9659\n",
            "Epoch 21/25\n",
            "260/260 [==============================] - 27s 102ms/step - loss: 0.0691 - accuracy: 0.9768 - val_loss: 0.1332 - val_accuracy: 0.9639\n",
            "Epoch 22/25\n",
            "260/260 [==============================] - 27s 102ms/step - loss: 0.0930 - accuracy: 0.9725 - val_loss: 0.2081 - val_accuracy: 0.9560\n",
            "Epoch 23/25\n",
            "260/260 [==============================] - 26s 102ms/step - loss: 0.0745 - accuracy: 0.9740 - val_loss: 0.1392 - val_accuracy: 0.9626\n",
            "Epoch 24/25\n",
            "260/260 [==============================] - 27s 102ms/step - loss: 0.0641 - accuracy: 0.9779 - val_loss: 0.1770 - val_accuracy: 0.9613\n",
            "Epoch 25/25\n",
            "260/260 [==============================] - 26s 102ms/step - loss: 0.0776 - accuracy: 0.9762 - val_loss: 0.1025 - val_accuracy: 0.9685\n"
          ],
          "name": "stdout"
        }
      ]
    },
    {
      "cell_type": "code",
      "metadata": {
        "colab": {
          "base_uri": "https://localhost:8080/"
        },
        "id": "IWUtthiPmch4",
        "outputId": "162c0365-b4c2-47d2-fb9b-038b42e036ad"
      },
      "source": [
        "#@tf.function got this without augmentation just by scratch code with class_weights\n",
        "m2=model.fit(X41,training_labels,epochs=25,validation_data=(X51,testing_labels1),class_weight=class_weights)#working after making y41 to (training_labels=tf.keras.utils.to_categorical(y41))"
      ],
      "execution_count": null,
      "outputs": [
        {
          "output_type": "stream",
          "text": [
            "Epoch 1/25\n",
            "260/260 [==============================] - 21s 80ms/step - loss: 18.5410 - accuracy: 0.9291 - val_loss: 5.4803 - val_accuracy: 0.9041\n",
            "Epoch 2/25\n",
            "260/260 [==============================] - 20s 75ms/step - loss: 3.4187 - accuracy: 0.9732 - val_loss: 1.1608 - val_accuracy: 0.9810\n",
            "Epoch 3/25\n",
            "260/260 [==============================] - 20s 75ms/step - loss: 0.6888 - accuracy: 0.9892 - val_loss: 1.2018 - val_accuracy: 0.9757\n",
            "Epoch 4/25\n",
            "260/260 [==============================] - 20s 75ms/step - loss: 0.4259 - accuracy: 0.9915 - val_loss: 1.0285 - val_accuracy: 0.9823\n",
            "Epoch 5/25\n",
            "260/260 [==============================] - 20s 75ms/step - loss: 0.1397 - accuracy: 0.9959 - val_loss: 0.9770 - val_accuracy: 0.9803\n",
            "Epoch 6/25\n",
            "260/260 [==============================] - 20s 75ms/step - loss: 0.1092 - accuracy: 0.9972 - val_loss: 1.0391 - val_accuracy: 0.9849\n",
            "Epoch 7/25\n",
            "260/260 [==============================] - 20s 75ms/step - loss: 0.5955 - accuracy: 0.9922 - val_loss: 4.2845 - val_accuracy: 0.9133\n",
            "Epoch 8/25\n",
            "260/260 [==============================] - 20s 75ms/step - loss: 0.3427 - accuracy: 0.9937 - val_loss: 1.3292 - val_accuracy: 0.9790\n",
            "Epoch 9/25\n",
            "260/260 [==============================] - 20s 75ms/step - loss: 0.1581 - accuracy: 0.9974 - val_loss: 1.3880 - val_accuracy: 0.9823\n",
            "Epoch 10/25\n",
            "260/260 [==============================] - 20s 75ms/step - loss: 0.0441 - accuracy: 0.9986 - val_loss: 1.3873 - val_accuracy: 0.9829\n",
            "Epoch 11/25\n",
            "260/260 [==============================] - 20s 75ms/step - loss: 0.1740 - accuracy: 0.9972 - val_loss: 1.7047 - val_accuracy: 0.9823\n",
            "Epoch 12/25\n",
            " 15/260 [>.............................] - ETA: 14s - loss: 0.0000e+00 - accuracy: 1.0000"
          ],
          "name": "stdout"
        }
      ]
    },
    {
      "cell_type": "code",
      "metadata": {
        "colab": {
          "base_uri": "https://localhost:8080/"
        },
        "id": "xoZesZp3ZN0_",
        "outputId": "f9757fcc-b33e-4d43-f54a-a8a3c653a545"
      },
      "source": [
        "#@tf.function got this without augmentation just by scratch code\n",
        "m1=model.fit(X41,training_labels,epochs=10,validation_data=(X51,testing_labels))#working after making y41 to (training_labels=tf.keras.utils.to_categorical(y41))"
      ],
      "execution_count": null,
      "outputs": [
        {
          "output_type": "stream",
          "text": [
            "Epoch 1/10\n",
            "  2/260 [..............................] - ETA: 46s - loss: 0.0309 - accuracy: 0.9844WARNING:tensorflow:Callbacks method `on_train_batch_end` is slow compared to the batch time (batch time: 0.0471s vs `on_train_batch_end` time: 0.1225s). Check your callbacks.\n",
            "260/260 [==============================] - 58s 223ms/step - loss: 0.0912 - accuracy: 0.9705 - val_loss: 0.0907 - val_accuracy: 0.9695\n",
            "Epoch 2/10\n",
            "260/260 [==============================] - 60s 230ms/step - loss: 0.1455 - accuracy: 0.9537 - val_loss: 0.0968 - val_accuracy: 0.9650\n",
            "Epoch 3/10\n",
            "260/260 [==============================] - 61s 235ms/step - loss: 0.0943 - accuracy: 0.9693 - val_loss: 0.1042 - val_accuracy: 0.9722\n",
            "Epoch 4/10\n",
            "260/260 [==============================] - 62s 237ms/step - loss: 0.0783 - accuracy: 0.9729 - val_loss: 0.0548 - val_accuracy: 0.9811\n",
            "Epoch 5/10\n",
            "260/260 [==============================] - 62s 237ms/step - loss: 0.0805 - accuracy: 0.9728 - val_loss: 0.0800 - val_accuracy: 0.9698\n",
            "Epoch 6/10\n",
            "260/260 [==============================] - 61s 236ms/step - loss: 0.0872 - accuracy: 0.9737 - val_loss: 0.0872 - val_accuracy: 0.9741\n",
            "Epoch 7/10\n",
            "260/260 [==============================] - 62s 237ms/step - loss: 0.0819 - accuracy: 0.9743 - val_loss: 0.0636 - val_accuracy: 0.9814\n",
            "Epoch 8/10\n",
            "260/260 [==============================] - 61s 233ms/step - loss: 1.8789 - accuracy: 0.7038 - val_loss: 0.3945 - val_accuracy: 0.8949\n",
            "Epoch 9/10\n",
            "260/260 [==============================] - 60s 233ms/step - loss: 0.3033 - accuracy: 0.9043 - val_loss: 0.3777 - val_accuracy: 0.8805\n",
            "Epoch 10/10\n",
            "260/260 [==============================] - 60s 232ms/step - loss: 0.2425 - accuracy: 0.9241 - val_loss: 0.1882 - val_accuracy: 0.9310\n"
          ],
          "name": "stdout"
        }
      ]
    },
    {
      "cell_type": "code",
      "metadata": {
        "colab": {
          "base_uri": "https://localhost:8080/",
          "height": 282
        },
        "id": "_L6lxLlcXk0r",
        "outputId": "9f540fe4-ba72-49e9-9e30-64b3c9c36721"
      },
      "source": [
        "\n",
        "plt.plot(m1.history['accuracy'], label='accuracy')\n",
        "plt.plot(m1.history['val_accuracy'], label='val_accuracy')\n",
        "plt.legend()\n",
        "plt.show()\n",
        "plt.savefig('New3diseases_VGG16_Loss_Acc')"
      ],
      "execution_count": null,
      "outputs": [
        {
          "output_type": "display_data",
          "data": {
            "image/png": "[encoded data removed]",
            "text/plain": [
              "<Figure size 432x288 with 1 Axes>"
            ]
          },
          "metadata": {
            "tags": [],
            "needs_background": "light"
          }
        },
        {
          "output_type": "display_data",
          "data": {
            "text/plain": [
              "<Figure size 432x288 with 0 Axes>"
            ]
          },
          "metadata": {
            "tags": []
          }
        }
      ]
    },
    {
      "cell_type": "code",
      "metadata": {
        "id": "p83w4o5ZnF6R"
      },
      "source": [
        "p1=model.predict(X51)"
      ],
      "execution_count": null,
      "outputs": []
    },
    {
      "cell_type": "code",
      "metadata": {
        "id": "FSkIf5IDcfIz"
      },
      "source": [
        "model.save('labeling_smotesimplevgg19_arrinp.h5')"
      ],
      "execution_count": null,
      "outputs": []
    },
    {
      "cell_type": "code",
      "metadata": {
        "colab": {
          "base_uri": "https://localhost:8080/",
          "height": 306
        },
        "id": "0lvMDxW7dT57",
        "outputId": "c5bbb21a-7c4b-440b-9537-ee586cc8e424"
      },
      "source": [
        "from tensorflow.keras.preprocessing.image import load_img\n",
        "from tensorflow.keras.preprocessing.image import img_to_array\n",
        "from tensorflow.keras.applications.vgg16 import preprocess_input, decode_predictions\n",
        "from tensorflow.keras.models import load_model\n",
        "import matplotlib.pyplot as plt\n",
        "from tensorflow.keras.models import load_model\n",
        "\n",
        "model=load_model(\"    \")# putting the .h5 file here\n",
        "_img=load_img(\"    \",target_size=(224,224))# put your to be tested pic here\n",
        "img=img_to_array(_img)\n",
        "img=np.expand_dims(img,axis=0)\n",
        "img=preprocess_input(img)\n",
        "#plt.subplot(1,2,1)\n",
        "plt.imshow(_img)\n",
        "#plt.subplot(1,2,2)\n",
        "#plt.imshow(img)\n",
        "plt.show()\n",
        "\n",
        "features=model.predict(img)"
      ],
      "execution_count": null,
      "outputs": [
        {
          "output_type": "display_data",
          "data": {
            "image/png": "[encoded data removed]",
            "text/plain": [
              "<Figure size 432x288 with 1 Axes>"
            ]
          },
          "metadata": {
            "tags": [],
            "needs_background": "light"
          }
        },
        {
          "output_type": "stream",
          "text": [
            "WARNING:tensorflow:5 out of the last 52 calls to <function Model.make_predict_function.<locals>.predict_function at 0x7f7330002c80> triggered tf.function retracing. Tracing is expensive and the excessive number of tracings could be due to (1) creating @tf.function repeatedly in a loop, (2) passing tensors with different shapes, (3) passing Python objects instead of tensors. For (1), please define your @tf.function outside of the loop. For (2), @tf.function has experimental_relax_shapes=True option that relaxes argument shapes that can avoid unnecessary retracing. For (3), please refer to https://www.tensorflow.org/tutorials/customization/performance#python_or_tensor_args and https://www.tensorflow.org/api_docs/python/tf/function for  more details.\n"
          ],
          "name": "stdout"
        }
      ]
    },
    {
      "cell_type": "code",
      "metadata": {
        "colab": {
          "base_uri": "https://localhost:8080/"
        },
        "id": "SFQXJ0iodmsA",
        "outputId": "325d090c-01b7-4706-95e5-e2473a2c46cb"
      },
      "source": [
        "features"
      ],
      "execution_count": null,
      "outputs": [
        {
          "output_type": "execute_result",
          "data": {
            "text/plain": [
              "array([[1., 0., 0.]], dtype=float32)"
            ]
          },
          "metadata": {
            "tags": []
          },
          "execution_count": 42
        }
      ]
    },
    {
      "cell_type": "code",
      "metadata": {
        "colab": {
          "base_uri": "https://localhost:8080/"
        },
        "id": "39hMHy2RcZw2",
        "outputId": "bc6146d8-fae6-4cee-9f73-bed17f8e6212"
      },
      "source": [
        "p1"
      ],
      "execution_count": null,
      "outputs": [
        {
          "output_type": "execute_result",
          "data": {
            "text/plain": [
              "array([[5.6132329e-01, 4.3434995e-01, 4.3268176e-03],\n",
              "       [9.5725965e-01, 1.3358980e-02, 2.9381376e-02],\n",
              "       [6.1485690e-01, 3.8314340e-01, 1.9996462e-03],\n",
              "       ...,\n",
              "       [3.9762719e-05, 1.1906386e-06, 9.9995899e-01],\n",
              "       [1.3351205e-04, 4.6505786e-05, 9.9982005e-01],\n",
              "       [1.1498213e-07, 9.6413423e-06, 9.9999022e-01]], dtype=float32)"
            ]
          },
          "metadata": {
            "tags": []
          },
          "execution_count": 33
        }
      ]
    },
    {
      "cell_type": "code",
      "metadata": {
        "id": "wdSMb-Z5okis"
      },
      "source": [
        "predicted_labels=tf.keras.utils.to_categorical(p1)"
      ],
      "execution_count": null,
      "outputs": []
    },
    {
      "cell_type": "code",
      "metadata": {
        "colab": {
          "base_uri": "https://localhost:8080/"
        },
        "id": "LgWRWhRfpB-q",
        "outputId": "711ea19a-6fb8-4a90-c3c7-6226805d556e"
      },
      "source": [
        "X51.shape"
      ],
      "execution_count": null,
      "outputs": [
        {
          "output_type": "execute_result",
          "data": {
            "text/plain": [
              "(8316, 224, 224, 3)"
            ]
          },
          "metadata": {
            "tags": []
          },
          "execution_count": 70
        }
      ]
    },
    {
      "cell_type": "code",
      "metadata": {
        "id": "lmFaKhUFnh_v"
      },
      "source": [
        "import sklearn\n",
        "from sklearn import metrics\n",
        "metrics.confusion_matrix(testing_labels,p2)"
      ],
      "execution_count": null,
      "outputs": []
    },
    {
      "cell_type": "code",
      "metadata": {
        "id": "aCzF8OrvUJ3j"
      },
      "source": [
        "vl_score = model.predict(test_set)\n",
        "\n",
        "classes = ['set1', 'set2', 'set3']\n",
        "print(classification_report(test_set.classes,\n",
        "                            np.argmax(vl_score, axis=1),\n",
        "                            target_names=classes))\n",
        "print('AUC: ', roc_auc_score(test_set.classes,\n",
        "                             np.argmax(vl_score, axis=1)))"
      ],
      "execution_count": null,
      "outputs": []
    },
    {
      "cell_type": "markdown",
      "metadata": {
        "id": "snlE7tcRyvA3"
      },
      "source": [
        "Working on custom model ended here"
      ]
    },
    {
      "cell_type": "markdown",
      "metadata": {
        "id": "6jpyi7GUAaGx"
      },
      "source": [
        "Performance measures started here"
      ]
    },
    {
      "cell_type": "code",
      "metadata": {
        "id": "jALrkCOhXVZm"
      },
      "source": [
        "import os, random, gc, math, time\n",
        "import numpy as np\n",
        "import pandas as pd\n",
        "import matplotlib.pyplot as plt\n",
        "import cv2\n",
        "import seaborn as sns\n",
        "import tensorflow as tf\n",
        "import keras_preprocessing.image\n",
        "import tensorflow.keras.backend as k\n",
        "from tensorflow.keras.applications import VGG16, VGG19\n",
        "from tensorflow.keras import Model\n",
        "from tensorflow.keras.optimizers import SGD, Adam\n",
        "from tensorflow.keras.layers import BatchNormalization, Dense, Dropout\n",
        "from tensorflow.keras.layers import GlobalAveragePooling2D, MaxPooling2D\n",
        "from tensorflow.keras.layers import Input, AvgPool2D, Conv2D\n",
        "from tensorflow.keras.layers import multiply, concatenate, Lambda, Reshape\n",
        "from tensorflow.keras import backend as K\n",
        "from tensorflow.keras.callbacks import ModelCheckpoint, EarlyStopping\n",
        "from tensorflow.keras.callbacks import ReduceLROnPlateau\n",
        "from tensorflow.keras.preprocessing.image import ImageDataGenerator\n",
        "from tensorflow import metrics\n",
        "from sklearn.metrics import classification_report, accuracy_score\n",
        "from sklearn.metrics import confusion_matrix, roc_auc_score\n",
        "from sklearn.utils import class_weight\n",
        "from PIL import Image\n",
        "from google.colab import drive\n",
        "\n",
        "\n",
        "\n",
        "from tensorflow.keras.preprocessing.image import load_img\n",
        "from tensorflow.keras.preprocessing.image import img_to_array\n",
        "from tensorflow.keras.applications.vgg16 import preprocess_input, decode_predictions\n",
        "from tensorflow.keras.models import load_model\n",
        "import matplotlib.pyplot as plt\n",
        "from tensorflow.keras.models import load_model"
      ],
      "execution_count": null,
      "outputs": []
    },
    {
      "cell_type": "code",
      "metadata": {
        "colab": {
          "base_uri": "https://localhost:8080/",
          "height": 486
        },
        "id": "x9FjzOUyXVXP",
        "outputId": "ba6499b6-f05d-44b3-e387-5faddc31f0bd"
      },
      "source": [
        "vl_score = model.predict_generator(test_set)\n",
        "\n",
        "classes = ['set1', 'set2', 'set3']\n",
        "print(classification_report(test_set.classes,             # can include ovo, ovr as per class\n",
        "                            np.argmax(vl_score, axis=1),\n",
        "                            target_names=classes))\n",
        "print('AUC: ', roc_auc_score(test_set.classes,\n",
        "                             np.argmax(vl_score, axis=1)))"
      ],
      "execution_count": null,
      "outputs": [
        {
          "output_type": "stream",
          "text": [
            "              precision    recall  f1-score   support\n",
            "\n",
            "        set1       0.09      0.09      0.09       101\n",
            "        set2       0.69      0.69      0.69      1025\n",
            "        set3       0.28      0.28      0.28       397\n",
            "\n",
            "    accuracy                           0.54      1523\n",
            "   macro avg       0.35      0.35      0.35      1523\n",
            "weighted avg       0.54      0.54      0.54      1523\n",
            "\n"
          ],
          "name": "stdout"
        },
        {
          "output_type": "error",
          "ename": "ValueError",
          "evalue": "ignored",
          "traceback": [
            "\u001b[0;31m---------------------------------------------------------------------------\u001b[0m",
            "\u001b[0;31mValueError\u001b[0m                                Traceback (most recent call last)",
            "\u001b[0;32m<ipython-input-45-d1fe905e19f2>\u001b[0m in \u001b[0;36m<module>\u001b[0;34m()\u001b[0m\n\u001b[1;32m      6\u001b[0m                             target_names=classes))\n\u001b[1;32m      7\u001b[0m print('AUC: ', roc_auc_score(test_set.classes,\n\u001b[0;32m----> 8\u001b[0;31m                              np.argmax(vl_score, axis=1)))\n\u001b[0m",
            "\u001b[0;32m/usr/local/lib/python3.6/dist-packages/sklearn/metrics/_ranking.py\u001b[0m in \u001b[0;36mroc_auc_score\u001b[0;34m(y_true, y_score, average, sample_weight, max_fpr, multi_class, labels)\u001b[0m\n\u001b[1;32m    379\u001b[0m                              \"instead\".format(max_fpr))\n\u001b[1;32m    380\u001b[0m         \u001b[0;32mif\u001b[0m \u001b[0mmulti_class\u001b[0m \u001b[0;34m==\u001b[0m \u001b[0;34m'raise'\u001b[0m\u001b[0;34m:\u001b[0m\u001b[0;34m\u001b[0m\u001b[0;34m\u001b[0m\u001b[0m\n\u001b[0;32m--> 381\u001b[0;31m             \u001b[0;32mraise\u001b[0m \u001b[0mValueError\u001b[0m\u001b[0;34m(\u001b[0m\u001b[0;34m\"multi_class must be in ('ovo', 'ovr')\"\u001b[0m\u001b[0;34m)\u001b[0m\u001b[0;34m\u001b[0m\u001b[0;34m\u001b[0m\u001b[0m\n\u001b[0m\u001b[1;32m    382\u001b[0m         return _multiclass_roc_auc_score(y_true, y_score, labels,\n\u001b[1;32m    383\u001b[0m                                          multi_class, average, sample_weight)\n",
            "\u001b[0;31mValueError\u001b[0m: multi_class must be in ('ovo', 'ovr')"
          ]
        }
      ]
    },
    {
      "cell_type": "markdown",
      "metadata": {
        "id": "tJUgMe-nAeOZ"
      },
      "source": [
        "performance measures ended here"
      ]
    },
    {
      "cell_type": "code",
      "metadata": {
        "id": "r35jU99-_0vZ"
      },
      "source": [
        ""
      ],
      "execution_count": null,
      "outputs": []
    },
    {
      "cell_type": "code",
      "metadata": {
        "id": "EVES0y3n_0r4"
      },
      "source": [
        ""
      ],
      "execution_count": null,
      "outputs": []
    },
    {
      "cell_type": "code",
      "metadata": {
        "id": "fAA9bXSi_0oG"
      },
      "source": [
        ""
      ],
      "execution_count": null,
      "outputs": []
    },
    {
      "cell_type": "code",
      "metadata": {
        "id": "M7Zi9v8I_0lm"
      },
      "source": [
        ""
      ],
      "execution_count": null,
      "outputs": []
    },
    {
      "cell_type": "code",
      "metadata": {
        "id": "KN_xWkrI_0i3"
      },
      "source": [
        ""
      ],
      "execution_count": null,
      "outputs": []
    },
    {
      "cell_type": "code",
      "metadata": {
        "id": "lD_KQcBCn3km"
      },
      "source": [
        "with open('trainarrayandlabels.npy', 'wb') as f:\n",
        "    np.save(f, X41)\n",
        "    np.save(f, y41)"
      ],
      "execution_count": null,
      "outputs": []
    },
    {
      "cell_type": "code",
      "metadata": {
        "id": "jdlaIVneXMCX"
      },
      "source": [
        "with open('testarrayandlabels.npy', 'wb') as f:\n",
        "    np.save(f, X51)\n",
        "    np.save(f, y51)"
      ],
      "execution_count": null,
      "outputs": []
    },
    {
      "cell_type": "code",
      "metadata": {
        "id": "pXC2CJ8uoZrY"
      },
      "source": [
        "with open('test.npy', 'rb') as f:\n",
        "    a = np.load(f)\n",
        "    b = np.load(f)"
      ],
      "execution_count": null,
      "outputs": []
    },
    {
      "cell_type": "code",
      "metadata": {
        "colab": {
          "base_uri": "https://localhost:8080/"
        },
        "id": "x2eBsoOIomiG",
        "outputId": "bd2b89a2-2e9e-49b4-eb85-0669d79d7013"
      },
      "source": [
        "print(b.shape)"
      ],
      "execution_count": null,
      "outputs": [
        {
          "output_type": "stream",
          "text": [
            "(8316,)\n"
          ],
          "name": "stdout"
        }
      ]
    },
    {
      "cell_type": "code",
      "metadata": {
        "id": "jUlDB2GyzwsJ"
      },
      "source": [
        "#b1=b.reshape(-1,1,1,1)"
      ],
      "execution_count": null,
      "outputs": []
    },
    {
      "cell_type": "code",
      "metadata": {
        "id": "LX3_GaH_zAtz"
      },
      "source": [
        "import keras"
      ],
      "execution_count": null,
      "outputs": []
    },
    {
      "cell_type": "code",
      "metadata": {
        "id": "bFki5Gt8yuZB"
      },
      "source": [
        "y_train=keras.utils.to_categorical(y_train4, 3)"
      ],
      "execution_count": null,
      "outputs": []
    },
    {
      "cell_type": "code",
      "metadata": {
        "id": "D4kCWf7MIW2C"
      },
      "source": [
        "c=a.size+b.size"
      ],
      "execution_count": null,
      "outputs": []
    },
    {
      "cell_type": "code",
      "metadata": {
        "colab": {
          "base_uri": "https://localhost:8080/"
        },
        "id": "1zfFPadyIc34",
        "outputId": "9325c8b4-cdf8-458d-ef2c-2e540136d82f"
      },
      "source": [
        "c"
      ],
      "execution_count": null,
      "outputs": [
        {
          "output_type": "execute_result",
          "data": {
            "text/plain": [
              "1251799164"
            ]
          },
          "metadata": {
            "tags": []
          },
          "execution_count": 110
        }
      ]
    },
    {
      "cell_type": "code",
      "metadata": {
        "id": "7xO91N4TMkMy"
      },
      "source": [
        "listed=[]\n",
        "from array import *\n",
        "def array_list(array_num): \n",
        "    num_list = array_num.tolist() # list \n",
        "    listed.append(num_list)"
      ],
      "execution_count": null,
      "outputs": []
    },
    {
      "cell_type": "code",
      "metadata": {
        "id": "1t_VleGNMpOl"
      },
      "source": [
        "array_list(y_train)"
      ],
      "execution_count": null,
      "outputs": []
    },
    {
      "cell_type": "code",
      "metadata": {
        "id": "gu9_A6uvM8tw"
      },
      "source": [
        "listed"
      ],
      "execution_count": null,
      "outputs": []
    }
  ]
}